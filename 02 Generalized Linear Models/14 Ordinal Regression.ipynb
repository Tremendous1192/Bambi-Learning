{
 "cells": [
  {
   "cell_type": "markdown",
   "metadata": {},
   "source": [
    "# Ordinal Regression"
   ]
  },
  {
   "cell_type": "code",
   "execution_count": 1,
   "metadata": {},
   "outputs": [],
   "source": [
    "import arviz as az\n",
    "import matplotlib.pyplot as plt\n",
    "from matplotlib.lines import Line2D\n",
    "import numpy as np\n",
    "import pandas as pd\n",
    "import warnings\n",
    "\n",
    "import bambi as bmb\n",
    "\n",
    "warnings.filterwarnings(\"ignore\", category=FutureWarning)"
   ]
  },
  {
   "cell_type": "markdown",
   "metadata": {},
   "source": [
    "In some scenarios, the response variable is discrete, like a count, and ordered. Common examples of such data come from questionnaires where the respondent is asked to rate a product, service, or experience on a scale. This scale is often referred to as a [Likert scale](https://en.wikipedia.org/wiki/Likert_scale). For example, a five-level Likert scale could be:\n",
    "\n",
    "* 1 = Strongly disagree\n",
    "* 2 = Disagree\n",
    "* 3 = Neither agree nor disagree\n",
    "* 4 = Agree\n",
    "* 5 = Strongly agree\n",
    "\n",
    "The result is a set of ordered categories where each category has an associated numeric value (1-5). However, you can’t compute a meaningful difference between the categories. Moreover, the response variable can also be a count where meaningful differences can be computed. For example, a restaurant can be rated on a scale of 1-5 stars where 1 is the worst and 5 is the best. Yes, you can compute the difference between 1 and 2 stars, but it is often treated as ordinal in an applied setting."
   ]
  },
  {
   "cell_type": "markdown",
   "metadata": {},
   "source": [
    "Ordinal data presents three challenges when modelling:\n",
    "\n",
    "1. Unlike a count, the differences in the values are not necessarily equidistant or meaningful. For example, computing the difference between “Strongly disagree” and “Disagree”. Or, in the case of the restaurant rating, it may be much harder for a restuarant to go from 4 to 5 stars than from 2 to 3 stars.\n",
    "1. The distribution of ordinal responses may be nonnormal as the response is not continuous; particularly if larger response levels are infrequently chosen compared to lower ones.\n",
    "1. The variances of the unobserved variables that underlie the observed ordered category may differ between the category, time points, etc.\n",
    "\n",
    "Thus, treating ordered categories as continuous is not appropriate. To this extent, Bambi supports two classes of ordinal regression models: (1) cumulative, and (2) sequential. Below, it is demonstrated how to fit these two models using Bambi to overcome the challenges of ordered category response data."
   ]
  },
  {
   "cell_type": "markdown",
   "metadata": {},
   "source": [
    "## Cumulative model"
   ]
  },
  {
   "cell_type": "markdown",
   "metadata": {},
   "source": [
    "A cumulative model assumes that the observed ordinal variable $Y$\n",
    " originates from the “categorization” of a latent continuous variable $Z$\n",
    ". To model the categorization process, the model assumes that there are $K$\n",
    " thresholds (or cutpoints) $\\tau_k$\n",
    " that partition $Z$\n",
    " into $K + 1$\n",
    " observable, ordered categories of $Y$\n",
    ". The subscript $k$\n",
    " in $\\tau_k$\n",
    " is an index that associates that threshold to a particular category $k$\n",
    ". For example, if the response has three categories such as “disagree”, “neither agree nor disagree”, and “agree”, then there are two thresholds $\\tau_1$\n",
    " and $\\tau_2$\n",
    " that partition $Z$\n",
    " into $K + 1$\n",
    " categories. Additionally, if we assume $Z$\n",
    " to have a certain distribution (e.g., Normal) with a cumulative distribution function $F$\n",
    ", the probability of $Y$\n",
    " being equal to category $k$\n",
    " is\n",
    "\n",
    "$$\n",
    "P(Y = k) = F(\\tau_k) - F(\\tau_{k - 1})\n",
    "$$\n",
    "\n",
    "where $F(\\tau)$\n",
    " is a cumulative probability. For example, suppose we are interested in the probability of each category stated above, and have two thresholds $\\tau_1 = -1, \\tau_2 = 1$\n",
    " for the three categories. Additionally, if we assume $Z$\n",
    " to be normally distributed with $\\sigma = 1$\n",
    " and a cumulative distribution function $\\Phi$\n",
    " then\n",
    "\n",
    "$$\n",
    "P(Y = 1) = \\Phi(\\tau_1) = \\Phi(-1)\\\\\n",
    "P(Y = 2) = \\Phi(\\tau_2) - \\Phi(\\tau_1) = \\Phi(1) - \\Phi(-1)\\\\\n",
    "P(Y = 3) = 1 - \\Phi(\\tau_2) = 1 - \\Phi(1)\n",
    "$$\n",
    "\n",
    "But how to set the values of the thresholds? By default, Bambi uses a Normal distribution with a grid of evenly spaced $\\mu$\n",
    " that depends on the number of response levels as the prior for the thresholds. Additionally, since the thresholds need to be orderd, Bambi applies a transformation to the values such that the order is preserved. Furthermore, the model specification for ordinal regression typically transforms the cumulative probabilities using the log-cumulative-odds (logit) transformation. Therefore, the learned parameters for the thresholds $\\tau$\n",
    " will be logits."
   ]
  },
  {
   "cell_type": "markdown",
   "metadata": {},
   "source": [
    "Lastly, as each $F(\\tau)$\n",
    " implies a cumulative probability for each category, the largest response level always has a cumulative probability of 1. Thus, we effectively do not need a parameter for it due to the law of total probability. For example, for three response values, we only need two thresholds as two thresholds partition $Z$\n",
    " into $K + 1$\n",
    " categories."
   ]
  },
  {
   "cell_type": "markdown",
   "metadata": {},
   "source": [
    "### The moral intuition dataset"
   ]
  },
  {
   "cell_type": "markdown",
   "metadata": {},
   "source": [
    "To illustrate an cumulative ordinal model, we will model data from a series of experiments conducted by philsophers (this example comes from Richard McElreath’s [Statistical Rethinking](https://xcelab.net/rm/statistical-rethinking/)). The experiments aim to collect empirical evidence relevant to debates about moral intuition, the forms of reasoning through which people develop judgments about the moral goodness and badness of actions."
   ]
  },
  {
   "cell_type": "markdown",
   "metadata": {},
   "source": [
    "In the dataset there are 12 columns and 9930 rows, comprising data for 331 unique individuals. The response we are interested in ```response```, is an integer from 1 to 7 indicating how morally permissible the participant found the action to be taken (or not) in the story. The predictors are as follows:\n",
    "\n",
    "* ```action```: a factor with levels 0 and 1 where 1 indicates that the story contained “harm caused by action is morally worse than equivalent harm caused by omission”.\n",
    "* ```intention```: a factor with levels 0 and 1 where 1 indicates that the story contained “harm intended as the means to a goal is morally worse than equivalent harm foreseen as the side effect of a goal”.\n",
    "* ```contact```: a factor with levels 0 and 1 where 1 indicates that the story contained “using physical contact to cause harm to a victim is morally worse than causing equivalent harm to a victim without using physical contact”."
   ]
  },
  {
   "cell_type": "code",
   "execution_count": 2,
   "metadata": {},
   "outputs": [],
   "source": [
    "trolly = pd.read_csv(\"https://raw.githubusercontent.com/rmcelreath/rethinking/master/data/Trolley.csv\", sep=\";\")\n",
    "trolly = trolly[[\"response\", \"action\", \"intention\", \"contact\"]]\n",
    "trolly[\"action\"] = pd.Categorical(trolly[\"action\"], ordered=False)\n",
    "trolly[\"intention\"] = pd.Categorical(trolly[\"intention\"], ordered=False)\n",
    "trolly[\"contact\"] = pd.Categorical(trolly[\"contact\"], ordered=False)\n",
    "trolly[\"response\"] = pd.Categorical(trolly[\"response\"], ordered=True)"
   ]
  },
  {
   "cell_type": "code",
   "execution_count": 3,
   "metadata": {},
   "outputs": [
    {
     "data": {
      "text/plain": [
       "[4, 3, 5, 2, 1, 7, 6]\n",
       "Categories (7, int64): [1 < 2 < 3 < 4 < 5 < 6 < 7]"
      ]
     },
     "execution_count": 3,
     "metadata": {},
     "output_type": "execute_result"
    }
   ],
   "source": [
    "# 7 ordered categories from 1-7\n",
    "trolly.response.unique()"
   ]
  },
  {
   "cell_type": "markdown",
   "metadata": {},
   "source": [
    "### Intercept only model"
   ]
  },
  {
   "cell_type": "markdown",
   "metadata": {},
   "source": [
    "Before we fit a model with predictors, let’s attempt to recover the parameters of an ordinal model using only the thresholds to get a feel for the cumulative family. Traditionally, in Bambi if we wanted to recover the parameters of the likelihood, we would use an intercept only model and write the formula as ```response ~ 1``` where ```1``` indicates to include the intercept. However, in the case of ordinal regression, the thresholds “take the place” of the intercept. Thus, we can write the formula as ```response ~ 0``` to indicate that we do not want to include an intercept. To fit a cumulative ordinal model, we pass ```family=\"cumulative\"```. To compare the thresholds only model, we compute the empirical log-cumulative-odds of the categories directly from the data below and generate a bar plot of the response probabilities."
   ]
  },
  {
   "cell_type": "code",
   "execution_count": 4,
   "metadata": {},
   "outputs": [
    {
     "name": "stderr",
     "output_type": "stream",
     "text": [
      "C:\\Users\\treme\\AppData\\Local\\Temp\\ipykernel_8380\\1548491577.py:3: RuntimeWarning: invalid value encountered in log\n",
      "  logit_func = lambda x: np.log(x / (1 - x))\n"
     ]
    },
    {
     "data": {
      "text/plain": [
       "array([-1.91609116, -1.26660559, -0.718634  ,  0.24778573,  0.88986365,\n",
       "        1.76938091,         nan])"
      ]
     },
     "execution_count": 4,
     "metadata": {},
     "output_type": "execute_result"
    }
   ],
   "source": [
    "pr_k = trolly.response.value_counts().sort_index().values / trolly.shape[0]\n",
    "cum_pr_k = np.cumsum(pr_k)\n",
    "logit_func = lambda x: np.log(x / (1 - x))\n",
    "cum_logit = logit_func(cum_pr_k)\n",
    "cum_logit"
   ]
  },
  {
   "cell_type": "code",
   "execution_count": 5,
   "metadata": {},
   "outputs": [
    {
     "data": {
      "image/png": "[encoded data removed]",
      "text/plain": [
       "<Figure size 700x300 with 1 Axes>"
      ]
     },
     "metadata": {},
     "output_type": "display_data"
    }
   ],
   "source": [
    "plt.figure(figsize=(7, 3))\n",
    "plt.bar(np.arange(1, 8), pr_k)\n",
    "plt.ylabel(\"Probability\")\n",
    "plt.xlabel(\"Response\")\n",
    "plt.title(\"Empirical probability of each response category\");"
   ]
  },
  {
   "cell_type": "code",
   "execution_count": 6,
   "metadata": {},
   "outputs": [
    {
     "data": {
      "text/html": [
       "<div>\n",
       "<style scoped>\n",
       "    .dataframe tbody tr th:only-of-type {\n",
       "        vertical-align: middle;\n",
       "    }\n",
       "\n",
       "    .dataframe tbody tr th {\n",
       "        vertical-align: top;\n",
       "    }\n",
       "\n",
       "    .dataframe thead th {\n",
       "        text-align: right;\n",
       "    }\n",
       "</style>\n",
       "<table border=\"1\" class=\"dataframe\">\n",
       "  <thead>\n",
       "    <tr style=\"text-align: right;\">\n",
       "      <th></th>\n",
       "      <th>response</th>\n",
       "      <th>action</th>\n",
       "      <th>intention</th>\n",
       "      <th>contact</th>\n",
       "    </tr>\n",
       "  </thead>\n",
       "  <tbody>\n",
       "    <tr>\n",
       "      <th>0</th>\n",
       "      <td>4</td>\n",
       "      <td>0</td>\n",
       "      <td>0</td>\n",
       "      <td>1</td>\n",
       "    </tr>\n",
       "    <tr>\n",
       "      <th>1</th>\n",
       "      <td>3</td>\n",
       "      <td>0</td>\n",
       "      <td>0</td>\n",
       "      <td>1</td>\n",
       "    </tr>\n",
       "    <tr>\n",
       "      <th>2</th>\n",
       "      <td>4</td>\n",
       "      <td>0</td>\n",
       "      <td>0</td>\n",
       "      <td>1</td>\n",
       "    </tr>\n",
       "    <tr>\n",
       "      <th>3</th>\n",
       "      <td>3</td>\n",
       "      <td>0</td>\n",
       "      <td>1</td>\n",
       "      <td>1</td>\n",
       "    </tr>\n",
       "    <tr>\n",
       "      <th>4</th>\n",
       "      <td>3</td>\n",
       "      <td>0</td>\n",
       "      <td>1</td>\n",
       "      <td>1</td>\n",
       "    </tr>\n",
       "  </tbody>\n",
       "</table>\n",
       "</div>"
      ],
      "text/plain": [
       "  response action intention contact\n",
       "0        4      0         0       1\n",
       "1        3      0         0       1\n",
       "2        4      0         0       1\n",
       "3        3      0         1       1\n",
       "4        3      0         1       1"
      ]
     },
     "execution_count": 6,
     "metadata": {},
     "output_type": "execute_result"
    }
   ],
   "source": [
    "trolly.head()"
   ]
  },
  {
   "cell_type": "code",
   "execution_count": 10,
   "metadata": {},
   "outputs": [
    {
     "ename": "AttributeError",
     "evalue": "'int' object has no attribute 'copy'",
     "output_type": "error",
     "traceback": [
      "\u001b[1;31m---------------------------------------------------------------------------\u001b[0m",
      "\u001b[1;31mAttributeError\u001b[0m                            Traceback (most recent call last)",
      "Cell \u001b[1;32mIn[10], line 3\u001b[0m\n\u001b[0;32m      1\u001b[0m \u001b[38;5;66;03m#model = bmb.Model(\"response ~ 0\", data=trolly, family=\"cumulative\")\u001b[39;00m\n\u001b[0;32m      2\u001b[0m model \u001b[38;5;241m=\u001b[39m bmb\u001b[38;5;241m.\u001b[39mModel(\u001b[38;5;124m\"\u001b[39m\u001b[38;5;124mresponse ~ 0\u001b[39m\u001b[38;5;124m\"\u001b[39m, data\u001b[38;5;241m=\u001b[39mtrolly)\n\u001b[1;32m----> 3\u001b[0m idata \u001b[38;5;241m=\u001b[39m \u001b[43mmodel\u001b[49m\u001b[38;5;241;43m.\u001b[39;49m\u001b[43mfit\u001b[49m\u001b[43m(\u001b[49m\u001b[43mrandom_seed\u001b[49m\u001b[38;5;241;43m=\u001b[39;49m\u001b[38;5;241;43m1234\u001b[39;49m\u001b[43m,\u001b[49m\u001b[43m \u001b[49m\u001b[43mnuts_sampler\u001b[49m\u001b[43m \u001b[49m\u001b[38;5;241;43m=\u001b[39;49m\u001b[43m \u001b[49m\u001b[38;5;124;43m\"\u001b[39;49m\u001b[38;5;124;43mnutpie\u001b[39;49m\u001b[38;5;124;43m\"\u001b[39;49m\u001b[43m)\u001b[49m\n",
      "File \u001b[1;32mc:\\Users\\treme\\.conda\\envs\\pymc_env\\Lib\\site-packages\\bambi\\models.py:330\u001b[0m, in \u001b[0;36mModel.fit\u001b[1;34m(self, draws, tune, discard_tuned_samples, omit_offsets, include_mean, include_response_params, inference_method, init, n_init, chains, cores, random_seed, **kwargs)\u001b[0m\n\u001b[0;32m    327\u001b[0m         inference_method \u001b[38;5;241m=\u001b[39m method\n\u001b[0;32m    329\u001b[0m \u001b[38;5;28;01mif\u001b[39;00m \u001b[38;5;129;01mnot\u001b[39;00m \u001b[38;5;28mself\u001b[39m\u001b[38;5;241m.\u001b[39mbuilt:\n\u001b[1;32m--> 330\u001b[0m     \u001b[38;5;28;43mself\u001b[39;49m\u001b[38;5;241;43m.\u001b[39;49m\u001b[43mbuild\u001b[49m\u001b[43m(\u001b[49m\u001b[43m)\u001b[49m\n\u001b[0;32m    332\u001b[0m \u001b[38;5;66;03m# Tell user which event is being modeled\u001b[39;00m\n\u001b[0;32m    333\u001b[0m \u001b[38;5;28;01mif\u001b[39;00m \u001b[38;5;28misinstance\u001b[39m(\u001b[38;5;28mself\u001b[39m\u001b[38;5;241m.\u001b[39mfamily, univariate\u001b[38;5;241m.\u001b[39mBernoulli):\n",
      "File \u001b[1;32mc:\\Users\\treme\\.conda\\envs\\pymc_env\\Lib\\site-packages\\bambi\\models.py:373\u001b[0m, in \u001b[0;36mModel.build\u001b[1;34m(self)\u001b[0m\n\u001b[0;32m    364\u001b[0m \u001b[38;5;250m\u001b[39m\u001b[38;5;124;03m\"\"\"Set up the model for sampling/fitting.\u001b[39;00m\n\u001b[0;32m    365\u001b[0m \n\u001b[0;32m    366\u001b[0m \u001b[38;5;124;03mCreates an instance of the underlying PyMC model and adds all the necessary terms to it.\u001b[39;00m\n\u001b[1;32m   (...)\u001b[0m\n\u001b[0;32m    370\u001b[0m \u001b[38;5;124;03mNone\u001b[39;00m\n\u001b[0;32m    371\u001b[0m \u001b[38;5;124;03m\"\"\"\u001b[39;00m\n\u001b[0;32m    372\u001b[0m \u001b[38;5;28mself\u001b[39m\u001b[38;5;241m.\u001b[39mbackend \u001b[38;5;241m=\u001b[39m PyMCModel()\n\u001b[1;32m--> 373\u001b[0m \u001b[38;5;28;43mself\u001b[39;49m\u001b[38;5;241;43m.\u001b[39;49m\u001b[43mbackend\u001b[49m\u001b[38;5;241;43m.\u001b[39;49m\u001b[43mbuild\u001b[49m\u001b[43m(\u001b[49m\u001b[38;5;28;43mself\u001b[39;49m\u001b[43m)\u001b[49m\n\u001b[0;32m    374\u001b[0m \u001b[38;5;28mself\u001b[39m\u001b[38;5;241m.\u001b[39mbuilt \u001b[38;5;241m=\u001b[39m \u001b[38;5;28;01mTrue\u001b[39;00m\n",
      "File \u001b[1;32mc:\\Users\\treme\\.conda\\envs\\pymc_env\\Lib\\site-packages\\bambi\\backend\\pymc.py:89\u001b[0m, in \u001b[0;36mPyMCModel.build\u001b[1;34m(self, spec)\u001b[0m\n\u001b[0;32m     87\u001b[0m \u001b[38;5;66;03m# Add response\u001b[39;00m\n\u001b[0;32m     88\u001b[0m \u001b[38;5;28mself\u001b[39m\u001b[38;5;241m.\u001b[39mresponse_component \u001b[38;5;241m=\u001b[39m ResponseComponent(spec\u001b[38;5;241m.\u001b[39mresponse_component)\n\u001b[1;32m---> 89\u001b[0m \u001b[38;5;28;43mself\u001b[39;49m\u001b[38;5;241;43m.\u001b[39;49m\u001b[43mresponse_component\u001b[49m\u001b[38;5;241;43m.\u001b[39;49m\u001b[43mbuild\u001b[49m\u001b[43m(\u001b[49m\u001b[38;5;28;43mself\u001b[39;49m\u001b[43m,\u001b[49m\u001b[43m \u001b[49m\u001b[43mspec\u001b[49m\u001b[43m)\u001b[49m\n\u001b[0;32m     91\u001b[0m \u001b[38;5;66;03m# Add potentials\u001b[39;00m\n\u001b[0;32m     92\u001b[0m \u001b[38;5;28mself\u001b[39m\u001b[38;5;241m.\u001b[39mbuild_potentials(spec)\n",
      "File \u001b[1;32mc:\\Users\\treme\\.conda\\envs\\pymc_env\\Lib\\site-packages\\bambi\\backend\\model_components.py:168\u001b[0m, in \u001b[0;36mResponseComponent.build\u001b[1;34m(self, pymc_backend, bmb_model)\u001b[0m\n\u001b[0;32m    165\u001b[0m \u001b[38;5;28;01mdef\u001b[39;00m \u001b[38;5;21mbuild\u001b[39m(\u001b[38;5;28mself\u001b[39m, pymc_backend, bmb_model):\n\u001b[0;32m    166\u001b[0m     \u001b[38;5;66;03m# Create and build the response term\u001b[39;00m\n\u001b[0;32m    167\u001b[0m     response_term \u001b[38;5;241m=\u001b[39m ResponseTerm(\u001b[38;5;28mself\u001b[39m\u001b[38;5;241m.\u001b[39mcomponent\u001b[38;5;241m.\u001b[39mterm, bmb_model\u001b[38;5;241m.\u001b[39mfamily)\n\u001b[1;32m--> 168\u001b[0m     \u001b[43mresponse_term\u001b[49m\u001b[38;5;241;43m.\u001b[39;49m\u001b[43mbuild\u001b[49m\u001b[43m(\u001b[49m\u001b[43mpymc_backend\u001b[49m\u001b[43m,\u001b[49m\u001b[43m \u001b[49m\u001b[43mbmb_model\u001b[49m\u001b[43m)\u001b[49m\n",
      "File \u001b[1;32mc:\\Users\\treme\\.conda\\envs\\pymc_env\\Lib\\site-packages\\bambi\\backend\\terms.py:272\u001b[0m, in \u001b[0;36mResponseTerm.build\u001b[1;34m(self, pymc_backend, bmb_model)\u001b[0m\n\u001b[0;32m    269\u001b[0m     \u001b[38;5;28;01melse\u001b[39;00m:\n\u001b[0;32m    270\u001b[0m         output \u001b[38;5;241m=\u001b[39m component\u001b[38;5;241m.\u001b[39moutput\n\u001b[1;32m--> 272\u001b[0m     kwargs[name] \u001b[38;5;241m=\u001b[39m \u001b[43mpm\u001b[49m\u001b[38;5;241;43m.\u001b[39;49m\u001b[43mDeterministic\u001b[49m\u001b[43m(\u001b[49m\u001b[43maliased_name\u001b[49m\u001b[43m,\u001b[49m\u001b[43m \u001b[49m\u001b[43mlinkinv\u001b[49m\u001b[43m(\u001b[49m\u001b[43moutput\u001b[49m\u001b[43m)\u001b[49m\u001b[43m,\u001b[49m\u001b[43m \u001b[49m\u001b[43mdims\u001b[49m\u001b[38;5;241;43m=\u001b[39;49m\u001b[43mdims\u001b[49m\u001b[43m)\u001b[49m\n\u001b[0;32m    274\u001b[0m \u001b[38;5;66;03m# Build the response distribution\u001b[39;00m\n\u001b[0;32m    275\u001b[0m dist \u001b[38;5;241m=\u001b[39m \u001b[38;5;28mself\u001b[39m\u001b[38;5;241m.\u001b[39mbuild_response_distribution(kwargs, pymc_backend)\n",
      "File \u001b[1;32mc:\\Users\\treme\\.conda\\envs\\pymc_env\\Lib\\site-packages\\pymc\\model\\core.py:2275\u001b[0m, in \u001b[0;36mDeterministic\u001b[1;34m(name, var, model, dims)\u001b[0m\n\u001b[0;32m   2208\u001b[0m \u001b[38;5;250m\u001b[39m\u001b[38;5;124;03m\"\"\"Create a named deterministic variable.\u001b[39;00m\n\u001b[0;32m   2209\u001b[0m \n\u001b[0;32m   2210\u001b[0m \u001b[38;5;124;03mDeterministic nodes are only deterministic given all of their inputs, i.e.\u001b[39;00m\n\u001b[1;32m   (...)\u001b[0m\n\u001b[0;32m   2272\u001b[0m \u001b[38;5;124;03mrandom variables.\u001b[39;00m\n\u001b[0;32m   2273\u001b[0m \u001b[38;5;124;03m\"\"\"\u001b[39;00m\n\u001b[0;32m   2274\u001b[0m model \u001b[38;5;241m=\u001b[39m modelcontext(model)\n\u001b[1;32m-> 2275\u001b[0m var \u001b[38;5;241m=\u001b[39m \u001b[43mvar\u001b[49m\u001b[38;5;241;43m.\u001b[39;49m\u001b[43mcopy\u001b[49m(model\u001b[38;5;241m.\u001b[39mname_for(name))\n\u001b[0;32m   2276\u001b[0m model\u001b[38;5;241m.\u001b[39mdeterministics\u001b[38;5;241m.\u001b[39mappend(var)\n\u001b[0;32m   2277\u001b[0m model\u001b[38;5;241m.\u001b[39madd_named_variable(var, dims)\n",
      "\u001b[1;31mAttributeError\u001b[0m: 'int' object has no attribute 'copy'"
     ]
    }
   ],
   "source": [
    "#model = bmb.Model(\"response ~ 0\", data=trolly, family=\"cumulative\")\n",
    "model = bmb.Model(\"response ~ 0\", data=trolly)\n",
    "idata = model.fit(random_seed=1234, nuts_sampler = \"nutpie\")"
   ]
  },
  {
   "cell_type": "markdown",
   "metadata": {},
   "source": [
    "Below, the components of the model are outputed. Notice how the thresholds are a grid of six values ranging from -2 to 2."
   ]
  },
  {
   "cell_type": "code",
   "execution_count": null,
   "metadata": {},
   "outputs": [],
   "source": [
    "model"
   ]
  },
  {
   "cell_type": "code",
   "execution_count": null,
   "metadata": {},
   "outputs": [],
   "source": [
    "az.summary(idata)"
   ]
  },
  {
   "cell_type": "markdown",
   "metadata": {},
   "source": [
    "Viewing the summary dataframe, we see a total of six ```response_threshold``` coefficients. Why six? Remember, we get the last parameter for free. Since there are seven categories, we only need six cutpoints. The index (using zero based indexing) of the ```response_threshold``` indicates the category that the threshold is associated with. Comparing to the empirical log-cumulative-odds computation above, the mean of the posterior distribution for each category is close to the empirical value."
   ]
  },
  {
   "cell_type": "markdown",
   "metadata": {},
   "source": [
    "As the the log cumulative link is used, we need to apply the inverse of the logit function to transform back to cumulative probabilities. Below, we plot the cumulative probabilities for each category."
   ]
  },
  {
   "cell_type": "code",
   "execution_count": null,
   "metadata": {},
   "outputs": [],
   "source": [
    "expit_func = lambda x: 1 / (1 + np.exp(-x))\n",
    "cumprobs = expit_func(idata.posterior.threshold).mean((\"chain\", \"draw\"))\n",
    "cumprobs = np.append(cumprobs, 1)\n",
    "\n",
    "plt.figure(figsize=(7, 3))\n",
    "plt.plot(sorted(trolly.response.unique()), cumprobs, marker='o')\n",
    "plt.ylabel(\"Cumulative probability\")\n",
    "plt.xlabel(\"Response category\")\n",
    "plt.title(\"Cumulative probabilities of response categories\");"
   ]
  },
  {
   "cell_type": "code",
   "execution_count": null,
   "metadata": {},
   "outputs": [],
   "source": [
    "fig, ax = plt.subplots(figsize=(7, 3))\n",
    "for i in range(6):\n",
    "    outcome = expit_func(idata.posterior.threshold).sel(threshold_dim=i).to_numpy().flatten()\n",
    "    ax.hist(outcome, bins=15, alpha=0.5, label=f\"Category: {i}\")\n",
    "ax.set_xlabel(\"Probability\")\n",
    "ax.set_ylabel(\"Count\")\n",
    "ax.set_title(\"Cumulative Probability by Category\")\n",
    "ax.legend(bbox_to_anchor=(1.04, 1), loc=\"upper left\");"
   ]
  },
  {
   "cell_type": "markdown",
   "metadata": {},
   "source": [
    "We can take the derivative of the cumulative probabilities to get the posterior probabilities for each category. Notice how the posterior probabilities in the barplot below are close to the empirical probabilities in barplot above."
   ]
  },
  {
   "cell_type": "code",
   "execution_count": null,
   "metadata": {},
   "outputs": [],
   "source": [
    "# derivative\n",
    "ddx = np.diff(cumprobs)\n",
    "probs = np.insert(ddx, 0, cumprobs[0])\n",
    "\n",
    "plt.figure(figsize=(7, 3))\n",
    "plt.bar(sorted(trolly.response.unique()), probs)\n",
    "plt.ylabel(\"Probability\")\n",
    "plt.xlabel(\"Response category\")\n",
    "plt.title(\"Posterior Probability of each response category\");"
   ]
  },
  {
   "cell_type": "markdown",
   "metadata": {},
   "source": [
    "Notice in the plots above, the jump in probability from category 3 to 4. Additionally, the estimates of the coefficients is precise for each category. Now that we have an understanding how the cumulative link function is applied to produce ordered cumulative outcomes, we will add predictors to the model."
   ]
  },
  {
   "cell_type": "markdown",
   "metadata": {},
   "source": [
    "### Adding predictors"
   ]
  },
  {
   "cell_type": "markdown",
   "metadata": {},
   "source": [
    "In the cumulative model described above, adding predictors was explicitly left out. In this section, it is described how predictors are added to ordinal cumulative models. When adding predictor variables, what we would like is for any predictor, as it increases, predictions are moved progressively (increased) through the categories in sequence. A linear regression is formed for $Z$\n",
    " by adding a predictor term $\\eta$\n",
    "\n",
    "$$\n",
    "\\eta = \\beta_1 x_1 + \\beta_2 x_2 + ... + \\beta_n x_n\n",
    "$$\n",
    "\n",
    "Notice how similar this looks to an ordinary linear model. However, there is no intercept or error term. This is because the intercept is replaced by the threshold $\\tau$\n",
    " and the error term $\\epsilon$\n",
    " is added seperately to obtain\n",
    "\n",
    "$$\n",
    "Z = \\eta + \\epsilon\n",
    "$$\n",
    "\n",
    "Putting the predictor term together with the thresholds and cumulative distribution function, we obtain the probability of \n",
    " being equal to a category \n",
    " as\n",
    "\n",
    "\n",
    "The same predictor term $\\eta$\n",
    " is subtracted from each threshold because if we decrease the log-cumulative-odds of every outcome value $k$\n",
    " below the maximum, this shifts probability mass upwards towards higher outcome values. Thus, positive $\\beta$\n",
    " values correspond to increasing $x$\n",
    ", which is associated with an increase in the mean response $Y$\n",
    ". The parameters to be estimated from the model are the thresholds $\\tau$\n",
    " and the predictor terms $\\eta$\n",
    " coefficients.\n",
    "\n",
    "To add predictors for ordinal models in Bambi, we continue to use the formula interface."
   ]
  },
  {
   "cell_type": "code",
   "execution_count": null,
   "metadata": {},
   "outputs": [],
   "source": [
    "model = bmb.Model(\n",
    "    \"response ~ 0 + action + intention + contact + action:intention + contact:intention\", \n",
    "    data=trolly, \n",
    "    family=\"cumulative\"\n",
    ")\n",
    "idata = model.fit(random_seed=1234, nuts_sampler = \"nutpie\")"
   ]
  },
  {
   "cell_type": "markdown",
   "metadata": {},
   "source": [
    "In the summary dataframe below, we only select the predictor variables as the cutpoints are not of interest at the moment."
   ]
  },
  {
   "cell_type": "code",
   "execution_count": null,
   "metadata": {},
   "outputs": [],
   "source": [
    "az.summary(\n",
    "    idata, \n",
    "    var_names=[\"action\", \"intention\", \"contact\", \n",
    "               \"action:intention\", \"contact:intention\"]\n",
    ")"
   ]
  },
  {
   "cell_type": "markdown",
   "metadata": {},
   "source": [
    "The posterior distribution of the slopes are all negative indicating that each of these story features reduces the rating—the acceptability of the story. Below, a forest plot is used to make this insight more clear."
   ]
  },
  {
   "cell_type": "code",
   "execution_count": null,
   "metadata": {},
   "outputs": [],
   "source": [
    "az.plot_forest(\n",
    "    idata,\n",
    "    combined=True,\n",
    "    var_names=[\"action\", \"intention\", \"contact\", \n",
    "               \"action:intention\", \"contact:intention\"],\n",
    "    figsize=(7, 3),\n",
    "    textsize=11\n",
    ");"
   ]
  },
  {
   "cell_type": "markdown",
   "metadata": {},
   "source": [
    "Again, we can plot the cumulative probability of each category. Compared to the same plot above, notice how most of the category probabilities have been shifted to the left. Additionally, there is more uncertainty for category 3, 4, and 5."
   ]
  },
  {
   "cell_type": "code",
   "execution_count": null,
   "metadata": {},
   "outputs": [],
   "source": [
    "fig, ax = plt.subplots(figsize=(7, 3))\n",
    "for i in range(6):\n",
    "    outcome = expit_func(idata.posterior.threshold).sel(threshold_dim=i).to_numpy().flatten()\n",
    "    ax.hist(outcome, bins=15, alpha=0.5, label=f\"Category: {i}\")\n",
    "ax.set_xlabel(\"Probability\")\n",
    "ax.set_ylabel(\"Count\")\n",
    "ax.set_title(\"Cumulative Probability by Category\")\n",
    "ax.legend(bbox_to_anchor=(1.04, 1), loc=\"upper left\");"
   ]
  },
  {
   "cell_type": "markdown",
   "metadata": {},
   "source": [
    "### Posterior predictive distribution"
   ]
  },
  {
   "cell_type": "markdown",
   "metadata": {},
   "source": [
    "To get a sense of how well the ordinal model fits the data, we can plot samples from the posterior predictive distribution. To plot the samples, a utility function is defined below to assist in the plotting of discrete values."
   ]
  },
  {
   "cell_type": "code",
   "execution_count": null,
   "metadata": {},
   "outputs": [],
   "source": [
    "def adjust_lightness(color, amount=0.5):\n",
    "    import matplotlib.colors as mc\n",
    "    import colorsys\n",
    "    try:\n",
    "        c = mc.cnames[color]\n",
    "    except:\n",
    "        c = color\n",
    "    c = colorsys.rgb_to_hls(*mc.to_rgb(c))\n",
    "    return colorsys.hls_to_rgb(c[0], c[1] * amount, c[2])\n",
    "\n",
    "def plot_ppc_discrete(idata, bins, ax):\n",
    "    \n",
    "    def add_discrete_bands(x, lower, upper, ax, **kwargs):\n",
    "        for i, (l, u) in enumerate(zip(lower, upper)):\n",
    "            s = slice(i, i + 2)\n",
    "            ax.fill_between(x[s], [l, l], [u, u], **kwargs)\n",
    "\n",
    "    var_name = list(idata.observed_data.data_vars)[0]\n",
    "    y_obs = idata.observed_data[var_name].to_numpy()\n",
    "    \n",
    "    counts_list = []\n",
    "    for draw_values in az.extract(idata, \"posterior_predictive\")[var_name].to_numpy().T:\n",
    "        counts, _ = np.histogram(draw_values, bins=bins)\n",
    "        counts_list.append(counts)\n",
    "    counts_arr = np.stack(counts_list)\n",
    "\n",
    "    qts_90 = np.quantile(counts_arr, (0.05, 0.95), axis=0)\n",
    "    qts_70 = np.quantile(counts_arr, (0.15, 0.85), axis=0)\n",
    "    qts_50 = np.quantile(counts_arr, (0.25, 0.75), axis=0)\n",
    "    qts_30 = np.quantile(counts_arr, (0.35, 0.65), axis=0)\n",
    "    median = np.quantile(counts_arr, 0.5, axis=0)\n",
    "\n",
    "    colors = [adjust_lightness(\"C0\", x) for x in [1.8, 1.6, 1.4, 1.2, 0.9]]\n",
    "\n",
    "    add_discrete_bands(bins, qts_90[0], qts_90[1], ax=ax, color=colors[0])\n",
    "    add_discrete_bands(bins, qts_70[0], qts_70[1], ax=ax, color=colors[1])\n",
    "    add_discrete_bands(bins, qts_50[0], qts_50[1], ax=ax, color=colors[2])\n",
    "    add_discrete_bands(bins, qts_30[0], qts_30[1], ax=ax, color=colors[3])\n",
    "\n",
    "    \n",
    "    ax.step(bins[:-1], median, color=colors[4], lw=2, where=\"post\")\n",
    "    ax.hist(y_obs, bins=bins, histtype=\"step\", lw=2, color=\"black\", align=\"mid\")\n",
    "    handles = [\n",
    "        Line2D([], [], label=\"Observed data\", color=\"black\", lw=2),\n",
    "        Line2D([], [], label=\"Posterior predictive median\", color=colors[4], lw=2)\n",
    "    ]\n",
    "    ax.legend(handles=handles)\n",
    "    return ax"
   ]
  },
  {
   "cell_type": "code",
   "execution_count": null,
   "metadata": {},
   "outputs": [],
   "source": [
    "idata_pps = model.predict(idata=idata, kind=\"response\", inplace=False)\n",
    "\n",
    "bins = np.arange(7)\n",
    "fig, ax = plt.subplots(figsize=(7, 3))\n",
    "ax = plot_ppc_discrete(idata_pps, bins, ax)\n",
    "ax.set_xlabel(\"Response category\")\n",
    "ax.set_ylabel(\"Count\")\n",
    "ax.set_title(\"Cumulative model - Posterior Predictive Distribution\");"
   ]
  },
  {
   "cell_type": "markdown",
   "metadata": {},
   "source": [
    "## Sequential Model"
   ]
  },
  {
   "cell_type": "markdown",
   "metadata": {},
   "source": [
    "For some ordinal variables, the assumption of a single underlying continuous variable (as in cumulative models) may not be appropriate. If the response can be understood as being the result of a sequential process, such that a higher response category is possible only after all lower categories are achieved, then a sequential model may be more appropriate than a cumulative model.\n",
    "\n",
    "Sequential models assume that for every category $k$\n",
    " there is a latent continuous variable $Z$\n",
    " that determines the transition between categories $k$\n",
    " and $k + 1$\n",
    ". Now, a threshold $\\tau$\n",
    " belongs to each latent process. If there are 3 categories, then there are 3 latent processes. If $Z_k$\n",
    " is greater than the threshold $\\tau_k$\n",
    ", the sequential process continues, otherwise it stops at category $k$\n",
    ". As with the cumulative model, we assume a distribution for $Z_k$\n",
    " with a cumulative distribution function $F$\n",
    ".\n",
    "\n",
    "As an example, lets suppose we are interested in modeling the probability a boxer makes it to round 3. This implies that the particular boxer in question survived round 1 $Z_1 > \\tau_1$\n",
    " , 2 $Z_2 > \\tau_2$\n",
    ", and 3 $Z_3 > \\tau_3$\n",
    ". This can be written as\n",
    "\n",
    "$$\n",
    "P(Y = 3) = (1 - P(Z_1 \\leq \\tau_1)) *(1 - P(Z_2 \\leq \\tau_2)) * P(Z_3 \\leq \\tau_3)\n",
    "$$\n",
    "\n",
    "As in the cumulative model above, if we assume $Y$\n",
    " to be normally distributed with the thresholds $\\tau_1 = -1, \\tau_2 = -, \\tau_3 = 1$\n",
    " and cumulative distribution function \n",
    " then\n",
    "\n",
    "$$\n",
    "P(Y = 3) = (1 - \\Phi(\\tau_1)) *(1 - \\Phi(\\tau_2)) * \\Phi(\\tau_3)\n",
    "$$\n",
    "\n",
    "To add predictors to this sequential model, we follow the same specification in the Adding Predictors section above. Thus, the sequential model with predictor terms becomes\n",
    "\n",
    "$$\n",
    "P(Y = k) = F(\\tau_k - \\eta) * \\prod_{j = 1}^{k - 1}(1 - F(\\tau_j - \\eta))\n",
    "$$\n",
    "\n",
    "Thus, the probability that $Y$\n",
    " is equal to category $k$\n",
    " is equal to the probability that it did not fall in one of the former categories $1:k-1$\n",
    " multiplied by the probability that the sequential process stopped at $k$\n",
    " rather than continuing past it."
   ]
  },
  {
   "cell_type": "markdown",
   "metadata": {},
   "source": [
    "### Human resources attrition dataset"
   ]
  },
  {
   "cell_type": "markdown",
   "metadata": {},
   "source": [
    "To illustrate an sequential model with a stopping ratio link function, we will use data from the IBM human resources employee attrition and performance [dataset](https://www.kaggle.com/datasets/pavansubhasht/ibm-hr-analytics-attrition-dataset). The original dataset contains 1470 rows and 35 columns. However, our goal is to model the total working years of employees using age as a predictor. This data lends itself to a sequential model as the response, total working years, is a sequential process. In order to have 10 years of working experience, it is necessarily true that the employee had 9 years of working experience. Additionally, age is choosen as a predictor as it is positively correlated with total working years."
   ]
  },
  {
   "cell_type": "code",
   "execution_count": null,
   "metadata": {},
   "outputs": [],
   "source": [
    "attrition = pd.read_csv(\"data/hr_employee_attrition.tsv.txt\", sep=\"\\t\")\n",
    "attrition = attrition[attrition[\"Attrition\"] == \"No\"]\n",
    "attrition[\"YearsAtCompany\"] = pd.Categorical(attrition[\"YearsAtCompany\"], ordered=True)\n",
    "attrition[[\"YearsAtCompany\", \"Age\"]].head()"
   ]
  },
  {
   "cell_type": "markdown",
   "metadata": {},
   "source": [
    "Below, the empirical probabilities of the response categories are computed. Employees are most likely to stay at the company between 1 and 10 years.\n"
   ]
  },
  {
   "cell_type": "code",
   "execution_count": null,
   "metadata": {},
   "outputs": [],
   "source": [
    "pr_k = attrition.YearsAtCompany.value_counts().sort_index().values / attrition.shape[0]\n",
    "\n",
    "plt.figure(figsize=(7, 3))\n",
    "plt.bar(np.arange(0, 36), pr_k)\n",
    "plt.xlabel(\"Response category\")\n",
    "plt.ylabel(\"Probability\")\n",
    "plt.title(\"Empirical probability of each response category\");"
   ]
  },
  {
   "cell_type": "markdown",
   "metadata": {},
   "source": [
    "### Default prior of thresholds"
   ]
  },
  {
   "cell_type": "markdown",
   "metadata": {},
   "source": [
    "Before we fit the sequential model, it’s worth mentioning that the default priors for the thresholds in a sequential model are different than the cumulative model. In the cumulative model, the default prior for the thresholds is a Normal distribution with a grid of evenly spaced $\\mu$\n",
    " where an ordered transformation is applied to ensure the ordering of the values. However, in the sequential model, the ordering of the thresholds does not matter. Thus, the default prior for the thresholds is a Normal distribution with a zero $\\mu$\n",
    " vector of length $k - 1$\n",
    " where $k$\n",
    " is the number of response levels. Refer to the [getting started](https://bambinos.github.io/bambi/notebooks/getting_started.html#specifying-priors) docs if you need a refresher on priors in Bambi."
   ]
  },
  {
   "cell_type": "markdown",
   "metadata": {},
   "source": [
    "Subsequently, fitting a sequential model is similar to fitting a cumulative model. The only difference is that we pass ```family=\"sratio\"``` to the ```bambi.Model``` constructor."
   ]
  },
  {
   "cell_type": "code",
   "execution_count": null,
   "metadata": {},
   "outputs": [],
   "source": [
    "sequence_model = bmb.Model(\n",
    "    \"YearsAtCompany ~ 0 + TotalWorkingYears\", \n",
    "    data=attrition, \n",
    "    family=\"sratio\"\n",
    ")\n",
    "sequence_idata = sequence_model.fit(random_seed=1234)"
   ]
  },
  {
   "cell_type": "code",
   "execution_count": null,
   "metadata": {},
   "outputs": [],
   "source": [
    "sequence_model"
   ]
  },
  {
   "cell_type": "code",
   "execution_count": null,
   "metadata": {},
   "outputs": [],
   "source": [
    "az.summary(sequence_idata)"
   ]
  },
  {
   "cell_type": "markdown",
   "metadata": {},
   "source": [
    "The coefficients are still on the logits scale, so we need to apply the inverse of the logit function to transform back to probabilities. Below, we plot the probabilities for each category."
   ]
  },
  {
   "cell_type": "code",
   "execution_count": null,
   "metadata": {},
   "outputs": [],
   "source": [
    "probs = expit_func(sequence_idata.posterior.threshold).mean((\"chain\", \"draw\"))\n",
    "probs = np.append(probs, 1)\n",
    "\n",
    "plt.figure(figsize=(7, 3))\n",
    "plt.plot(sorted(attrition.YearsAtCompany.unique()), probs, marker='o')\n",
    "plt.ylabel(\"Probability\")\n",
    "plt.xlabel(\"Response category\");"
   ]
  },
  {
   "cell_type": "markdown",
   "metadata": {},
   "source": [
    "This plot can seem confusing at first. Remember, the sequential model is a product of probabilities, i.e., the probability that $Y$\n",
    " is equal to category $k$\n",
    " is equal to the probability that it did not fall in one of the former categories $1: k-1$\n",
    " multiplied by the probability that the sequential process stopped at $k$\n",
    ". Thus, the probability of category 5 is the probability that the sequential process did not fall in 0, 1, 2, 3, or 4 multiplied by the probability that the sequential process stopped at 5. This makes sense why the probability of category 36 is 1. There is no category after 36, so once you multiply all of the previous probabilities with the current category, you get 1. This is the reason for the “cumulative-like” shape of the plot. But if the coefficients were truly cumulative, the probability could not decreases as $k$\n",
    " increases."
   ]
  },
  {
   "cell_type": "markdown",
   "metadata": {},
   "source": [
    "### Posterior predictive samples"
   ]
  },
  {
   "cell_type": "markdown",
   "metadata": {},
   "source": [
    "Again, using the posterior predictive samples, we can visualize the model fit against the observed data. In the case of the sequential model, the model does an alright job of capturing the observed frequencies of the categories. For pedagogical purposes, this fit is sufficient."
   ]
  },
  {
   "cell_type": "code",
   "execution_count": null,
   "metadata": {},
   "outputs": [],
   "source": [
    "idata_pps = model.predict(idata=idata, kind=\"response\", inplace=False)\n",
    "\n",
    "bins = np.arange(35)\n",
    "fig, ax = plt.subplots(figsize=(7, 3))\n",
    "ax = plot_ppc_discrete(idata_pps, bins, ax)\n",
    "ax.set_xlabel(\"Response category\")\n",
    "ax.set_ylabel(\"Count\")\n",
    "ax.set_title(\"Sequential model - Posterior Predictive Distribution\");"
   ]
  },
  {
   "cell_type": "markdown",
   "metadata": {},
   "source": [
    "## Summary"
   ]
  },
  {
   "cell_type": "markdown",
   "metadata": {},
   "source": [
    "This notebook demonstrated how to fit cumulative and sequential ordinal regression models using Bambi. Cumulative models focus on modeling the cumulative probabilities of an ordinal outcome variable taking on values up to and including a certain category, whereas a sequential model focuses on modeling the probability that an ordinal outcome variable stops at a particular category, rather than continuing to higher categories. To achieve this, both models assume that the reponse variable originates from a categorization of a latent continuous variable $Z$\n",
    ". However, the cumulative model assumes that there are $K$\n",
    " thresholds $\\tau_k$\n",
    " that partition $Z$\n",
    " into $K + 1$\n",
    " observable, ordered categories of $Y$\n",
    ". The sequential model assumes that for every category $k$\n",
    " there is a latent continuous variable $Z$\n",
    " that determines the transition between categories $k$\n",
    " and $k + 1$\n",
    "; thus, a threshold $\\tau$\n",
    " belongs to each latent process."
   ]
  },
  {
   "cell_type": "markdown",
   "metadata": {},
   "source": [
    "Cumulative models can be used in situations where the outcome variable is on the Likert scale, and you are interested in understanding the impact of predictors on the probability of reaching or exceeding specific categories. Sequential models are particularly useful when you are interested in understanding the predictors that influence the decision to stop at a specific response level. It’s well-suited for analyzing data where categories represent stages, and the focus is on the transitions between these stages."
   ]
  },
  {
   "cell_type": "code",
   "execution_count": null,
   "metadata": {},
   "outputs": [],
   "source": [
    "%load_ext watermark\n",
    "%watermark -n -u -v -iv -w"
   ]
  }
 ],
 "metadata": {
  "kernelspec": {
   "display_name": "pymc_env",
   "language": "python",
   "name": "python3"
  },
  "language_info": {
   "codemirror_mode": {
    "name": "ipython",
    "version": 3
   },
   "file_extension": ".py",
   "mimetype": "text/x-python",
   "name": "python",
   "nbconvert_exporter": "python",
   "pygments_lexer": "ipython3",
   "version": "3.12.7"
  }
 },
 "nbformat": 4,
 "nbformat_minor": 2
}
