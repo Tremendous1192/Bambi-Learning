{
 "cells": [
  {
   "cell_type": "markdown",
   "metadata": {},
   "source": [
    "# Gaussian Processes in 2D"
   ]
  },
  {
   "cell_type": "markdown",
   "metadata": {},
   "source": [
    "This article demonstrates how to use Bambi with Gaussian Processes with 2 dimensional predictors. Bambi supports Gaussian Processes through the low-rank approximation known as [Hilbert Space Gaussian Processes. For references see Hilbert Space Methods for Reduced-Rank Gaussian Process Regression](https://arxiv.org/abs/1401.5508) and [Practical Hilbert Space Approximate Bayesian Gaussian Processes for Probabilistic Programming](https://arxiv.org/abs/2004.11408).\n",
    "\n",
    "If you prefer a video format, have a look at [Introduction to Hilbert Space GPs in PyMC](https://www.youtube.com/watch?v=ri5sJAdcYHk&ab_channel=PyMCDevelopers) given by Bill Engels."
   ]
  },
  {
   "cell_type": "code",
   "execution_count": 1,
   "metadata": {},
   "outputs": [],
   "source": [
    "import arviz as az\n",
    "import bambi as bmb\n",
    "import matplotlib.pyplot as plt\n",
    "import numpy as np\n",
    "import pandas as pd\n",
    "import pymc as pm"
   ]
  },
  {
   "cell_type": "markdown",
   "metadata": {},
   "source": [
    "The goal of this notebook is to showcase Bambi’s support for Gaussian Processes on two-dimensional data using the HSGP approximation.\n",
    "\n",
    "To achieve this, we begin by creating a matrix of coordinates that will serve as the locations where we measure the values of a continuous response variable."
   ]
  },
  {
   "cell_type": "code",
   "execution_count": 2,
   "metadata": {},
   "outputs": [
    {
     "data": {
      "text/plain": [
       "(144, 2)"
      ]
     },
     "execution_count": 2,
     "metadata": {},
     "output_type": "execute_result"
    }
   ],
   "source": [
    "x1 = np.linspace(0, 10, 12)\n",
    "x2 = np.linspace(0, 10, 12)\n",
    "xx, yy = np.meshgrid(x1, x2)\n",
    "X = np.column_stack([xx.flatten(), yy.flatten()])\n",
    "X.shape"
   ]
  },
  {
   "cell_type": "markdown",
   "metadata": {},
   "source": [
    "## Isotropic samples"
   ]
  },
  {
   "cell_type": "markdown",
   "metadata": {},
   "source": [
    "In modeling multi-dimensional data with a Gaussian Process, we must choose between using an isotropic or an anisotropic Gaussian Process. An isotropic GP applies the same degree of smoothing to all predictors and is rotationally invariant. On the other hand, an anisotropic GP assigns different degrees of smoothing to each predictor and is not rotationally invariant.\n",
    "\n",
    "Furthermore, as the ```hsgp()``` function allows for the creation of separate GP contribution terms for the levels of a categorical variable through its ```by``` argument, we also examine both single-group and multiple-group scenarios."
   ]
  },
  {
   "cell_type": "markdown",
   "metadata": {},
   "source": [
    "### A single group"
   ]
  },
  {
   "cell_type": "markdown",
   "metadata": {},
   "source": [
    "We create a covariance kernel using ```ExpQuad``` from the ```gp``` submodule in PyMC. Note that the lengthscale and amplitude for both dimensions are 2 and 1.2, respectively. Then, we simply use NumPy to get a random draw from the 144-dimensional multivariate normal distribution."
   ]
  },
  {
   "cell_type": "code",
   "execution_count": 3,
   "metadata": {},
   "outputs": [
    {
     "name": "stdout",
     "output_type": "stream",
     "text": [
      "(144,) (144, 144)\n"
     ]
    },
    {
     "data": {
      "image/png": "[encoded data removed]",
      "text/plain": [
       "<Figure size 640x480 with 1 Axes>"
      ]
     },
     "metadata": {},
     "output_type": "display_data"
    }
   ],
   "source": [
    "rng = np.random.default_rng(1234)\n",
    "\n",
    "ell = 2\n",
    "cov = 1.2 * pm.gp.cov.ExpQuad(2, ls=ell)\n",
    "K = cov(X).eval()\n",
    "mu = np.zeros(X.shape[0])\n",
    "print(mu.shape, K.shape)\n",
    "\n",
    "f = rng.multivariate_normal(mu, K)\n",
    "\n",
    "fig, ax = plt.subplots()\n",
    "ax.scatter(xx, yy, c=f, s=900, marker=\"s\");"
   ]
  },
  {
   "cell_type": "markdown",
   "metadata": {},
   "source": [
    "Since Bambi works with long-format data frames, we need to reshape our data before creating the data frame."
   ]
  },
  {
   "cell_type": "code",
   "execution_count": 4,
   "metadata": {},
   "outputs": [],
   "source": [
    "data = pd.DataFrame(\n",
    "    {\n",
    "        \"x\": np.tile(xx.flatten(), 1),\n",
    "        \"y\": np.tile(yy.flatten(), 1), \n",
    "        \"outcome\": f.flatten()\n",
    "    }\n",
    ")"
   ]
  },
  {
   "cell_type": "markdown",
   "metadata": {},
   "source": [
    "Now, let’s construct the model. The only notable distinction from the one-dimensional case is that we provide two unnamed arguments to the ```hsgp()``` function, representing the predictors on each dimension."
   ]
  },
  {
   "cell_type": "code",
   "execution_count": 5,
   "metadata": {},
   "outputs": [
    {
     "data": {
      "text/plain": [
       "       Formula: outcome ~ 0 + hsgp(x, y, c=1.5, m=10)\n",
       "        Family: gaussian\n",
       "          Link: mu = identity\n",
       "  Observations: 144\n",
       "        Priors: \n",
       "    target = mu\n",
       "        HSGP contributions\n",
       "            hsgp(x, y, c=1.5, m=10)\n",
       "                cov: ExpQuad\n",
       "                sigma ~ Exponential(lam: 3.0)\n",
       "                ell ~ InverseGamma(mu: 2.0, sigma: 0.2)\n",
       "        \n",
       "        Auxiliary parameters\n",
       "            sigma ~ HalfNormal(sigma: 2.0)"
      ]
     },
     "execution_count": 5,
     "metadata": {},
     "output_type": "execute_result"
    }
   ],
   "source": [
    "prior_hsgp = {\n",
    "    \"sigma\": bmb.Prior(\"Exponential\", lam=3),\n",
    "    \"ell\": bmb.Prior(\"InverseGamma\", mu=2, sigma=0.2),\n",
    "}\n",
    "priors = {\n",
    "    \"hsgp(x, y, c=1.5, m=10)\": prior_hsgp, \n",
    "    \"sigma\": bmb.Prior(\"HalfNormal\", sigma=2)\n",
    "}\n",
    "model = bmb.Model(\"outcome ~ 0 + hsgp(x, y, c=1.5, m=10)\", data, priors=priors)\n",
    "model.set_alias({\"hsgp(x, y, c=1.5, m=10)\": \"hsgp\"})\n",
    "model"
   ]
  },
  {
   "cell_type": "markdown",
   "metadata": {},
   "source": [
    "The parameters ```c``` and ```m``` of the HSGP aproximation are specific to each dimension, and can have different values for each. However, as we are passing scalars instead of sequences, Bambi will internally recycle them, causing the HSGP approximation to use the same values of ```c``` and ```m``` for both dimensions.\n",
    "\n",
    "Let’s build the internal PyMC model and create a graph to have a visual representation of the relationships between the model parameters."
   ]
  },
  {
   "cell_type": "code",
   "execution_count": 6,
   "metadata": {},
   "outputs": [
    {
     "data": {
      "image/svg+xml": [
       "<?xml version=\"1.0\" encoding=\"UTF-8\" standalone=\"no\"?>\n",
       "<!DOCTYPE svg PUBLIC \"-//W3C//DTD SVG 1.1//EN\"\n",
       " \"http://www.w3.org/Graphics/SVG/1.1/DTD/svg11.dtd\">\n",
       "<!-- Generated by graphviz version 11.0.0 (0)\n",
       " -->\n",
       "<!-- Pages: 1 -->\n",
       "<svg width=\"435pt\" height=\"580pt\"\n",
       " viewBox=\"0.00 0.00 434.78 579.95\" xmlns=\"http://www.w3.org/2000/svg\" xmlns:xlink=\"http://www.w3.org/1999/xlink\">\n",
       "<g id=\"graph0\" class=\"graph\" transform=\"scale(1 1) rotate(0) translate(4 575.95)\">\n",
       "<polygon fill=\"white\" stroke=\"none\" points=\"-4,4 -4,-575.95 430.78,-575.95 430.78,4 -4,4\"/>\n",
       "<g id=\"clust1\" class=\"cluster\">\n",
       "<title>clusterhsgp_weights_dim (100)</title>\n",
       "<path fill=\"none\" stroke=\"black\" d=\"M136.45,-348.63C136.45,-348.63 294.45,-348.63 294.45,-348.63 300.45,-348.63 306.45,-354.63 306.45,-360.63 306.45,-360.63 306.45,-551.95 306.45,-551.95 306.45,-557.95 300.45,-563.95 294.45,-563.95 294.45,-563.95 136.45,-563.95 136.45,-563.95 130.45,-563.95 124.45,-557.95 124.45,-551.95 124.45,-551.95 124.45,-360.63 124.45,-360.63 124.45,-354.63 130.45,-348.63 136.45,-348.63\"/>\n",
       "<text text-anchor=\"middle\" x=\"230.58\" y=\"-355.83\" font-family=\"Times New Roman,serif\" font-size=\"14.00\">hsgp_weights_dim (100)</text>\n",
       "</g>\n",
       "<g id=\"clust2\" class=\"cluster\">\n",
       "<title>cluster__obs__ (144)</title>\n",
       "<path fill=\"none\" stroke=\"black\" d=\"M174.45,-8C174.45,-8 256.45,-8 256.45,-8 262.45,-8 268.45,-14 268.45,-20 268.45,-20 268.45,-328.63 268.45,-328.63 268.45,-334.63 262.45,-340.63 256.45,-340.63 256.45,-340.63 174.45,-340.63 174.45,-340.63 168.45,-340.63 162.45,-334.63 162.45,-328.63 162.45,-328.63 162.45,-20 162.45,-20 162.45,-14 168.45,-8 174.45,-8\"/>\n",
       "<text text-anchor=\"middle\" x=\"221.08\" y=\"-15.2\" font-family=\"Times New Roman,serif\" font-size=\"14.00\">__obs__ (144)</text>\n",
       "</g>\n",
       "<!-- hsgp_sigma -->\n",
       "<g id=\"node1\" class=\"node\">\n",
       "<title>hsgp_sigma</title>\n",
       "<ellipse fill=\"none\" stroke=\"black\" cx=\"57.45\" cy=\"-515.29\" rx=\"57.45\" ry=\"40.66\"/>\n",
       "<text text-anchor=\"middle\" x=\"57.45\" y=\"-526.74\" font-family=\"Times New Roman,serif\" font-size=\"14.00\">hsgp_sigma</text>\n",
       "<text text-anchor=\"middle\" x=\"57.45\" y=\"-510.24\" font-family=\"Times New Roman,serif\" font-size=\"14.00\">~</text>\n",
       "<text text-anchor=\"middle\" x=\"57.45\" y=\"-493.74\" font-family=\"Times New Roman,serif\" font-size=\"14.00\">Exponential</text>\n",
       "</g>\n",
       "<!-- hsgp_weights -->\n",
       "<g id=\"node4\" class=\"node\">\n",
       "<title>hsgp_weights</title>\n",
       "<polygon fill=\"none\" stroke=\"black\" points=\"260.58,-438.63 170.33,-438.63 170.33,-381.13 260.58,-381.13 260.58,-438.63\"/>\n",
       "<text text-anchor=\"middle\" x=\"215.45\" y=\"-421.33\" font-family=\"Times New Roman,serif\" font-size=\"14.00\">hsgp_weights</text>\n",
       "<text text-anchor=\"middle\" x=\"215.45\" y=\"-404.83\" font-family=\"Times New Roman,serif\" font-size=\"14.00\">~</text>\n",
       "<text text-anchor=\"middle\" x=\"215.45\" y=\"-388.33\" font-family=\"Times New Roman,serif\" font-size=\"14.00\">Deterministic</text>\n",
       "</g>\n",
       "<!-- hsgp_sigma&#45;&gt;hsgp_weights -->\n",
       "<g id=\"edge1\" class=\"edge\">\n",
       "<title>hsgp_sigma&#45;&gt;hsgp_weights</title>\n",
       "<path fill=\"none\" stroke=\"black\" d=\"M98.97,-487.12C118.63,-474.25 142.33,-458.75 163.2,-445.08\"/>\n",
       "<polygon fill=\"black\" stroke=\"black\" points=\"164.85,-448.19 171.3,-439.78 161.01,-442.33 164.85,-448.19\"/>\n",
       "</g>\n",
       "<!-- hsgp_ell -->\n",
       "<g id=\"node2\" class=\"node\">\n",
       "<title>hsgp_ell</title>\n",
       "<ellipse fill=\"none\" stroke=\"black\" cx=\"371.45\" cy=\"-515.29\" rx=\"55.33\" ry=\"40.66\"/>\n",
       "<text text-anchor=\"middle\" x=\"371.45\" y=\"-526.74\" font-family=\"Times New Roman,serif\" font-size=\"14.00\">hsgp_ell</text>\n",
       "<text text-anchor=\"middle\" x=\"371.45\" y=\"-510.24\" font-family=\"Times New Roman,serif\" font-size=\"14.00\">~</text>\n",
       "<text text-anchor=\"middle\" x=\"371.45\" y=\"-493.74\" font-family=\"Times New Roman,serif\" font-size=\"14.00\">InvGamma</text>\n",
       "</g>\n",
       "<!-- hsgp_ell&#45;&gt;hsgp_weights -->\n",
       "<g id=\"edge2\" class=\"edge\">\n",
       "<title>hsgp_ell&#45;&gt;hsgp_weights</title>\n",
       "<path fill=\"none\" stroke=\"black\" d=\"M330.87,-487.39C311.54,-474.58 288.2,-459.11 267.58,-445.44\"/>\n",
       "<polygon fill=\"black\" stroke=\"black\" points=\"269.54,-442.54 259.27,-439.93 265.67,-448.37 269.54,-442.54\"/>\n",
       "</g>\n",
       "<!-- sigma -->\n",
       "<g id=\"node3\" class=\"node\">\n",
       "<title>sigma</title>\n",
       "<ellipse fill=\"none\" stroke=\"black\" cx=\"336.45\" cy=\"-198.48\" rx=\"57.98\" ry=\"40.66\"/>\n",
       "<text text-anchor=\"middle\" x=\"336.45\" y=\"-209.93\" font-family=\"Times New Roman,serif\" font-size=\"14.00\">sigma</text>\n",
       "<text text-anchor=\"middle\" x=\"336.45\" y=\"-193.43\" font-family=\"Times New Roman,serif\" font-size=\"14.00\">~</text>\n",
       "<text text-anchor=\"middle\" x=\"336.45\" y=\"-176.93\" font-family=\"Times New Roman,serif\" font-size=\"14.00\">HalfNormal</text>\n",
       "</g>\n",
       "<!-- outcome -->\n",
       "<g id=\"node7\" class=\"node\">\n",
       "<title>outcome</title>\n",
       "<ellipse fill=\"lightgrey\" stroke=\"black\" cx=\"215.45\" cy=\"-81.16\" rx=\"44.72\" ry=\"40.66\"/>\n",
       "<text text-anchor=\"middle\" x=\"215.45\" y=\"-92.61\" font-family=\"Times New Roman,serif\" font-size=\"14.00\">outcome</text>\n",
       "<text text-anchor=\"middle\" x=\"215.45\" y=\"-76.11\" font-family=\"Times New Roman,serif\" font-size=\"14.00\">~</text>\n",
       "<text text-anchor=\"middle\" x=\"215.45\" y=\"-59.61\" font-family=\"Times New Roman,serif\" font-size=\"14.00\">Normal</text>\n",
       "</g>\n",
       "<!-- sigma&#45;&gt;outcome -->\n",
       "<g id=\"edge6\" class=\"edge\">\n",
       "<title>sigma&#45;&gt;outcome</title>\n",
       "<path fill=\"none\" stroke=\"black\" d=\"M302.43,-165.05C287.31,-150.64 269.44,-133.61 253.84,-118.75\"/>\n",
       "<polygon fill=\"black\" stroke=\"black\" points=\"256.67,-116.61 247.02,-112.24 251.84,-121.68 256.67,-116.61\"/>\n",
       "</g>\n",
       "<!-- hsgp -->\n",
       "<g id=\"node6\" class=\"node\">\n",
       "<title>hsgp</title>\n",
       "<polygon fill=\"none\" stroke=\"black\" points=\"260.58,-332.63 170.33,-332.63 170.33,-275.13 260.58,-275.13 260.58,-332.63\"/>\n",
       "<text text-anchor=\"middle\" x=\"215.45\" y=\"-315.33\" font-family=\"Times New Roman,serif\" font-size=\"14.00\">hsgp</text>\n",
       "<text text-anchor=\"middle\" x=\"215.45\" y=\"-298.83\" font-family=\"Times New Roman,serif\" font-size=\"14.00\">~</text>\n",
       "<text text-anchor=\"middle\" x=\"215.45\" y=\"-282.33\" font-family=\"Times New Roman,serif\" font-size=\"14.00\">Deterministic</text>\n",
       "</g>\n",
       "<!-- hsgp_weights&#45;&gt;hsgp -->\n",
       "<g id=\"edge4\" class=\"edge\">\n",
       "<title>hsgp_weights&#45;&gt;hsgp</title>\n",
       "<path fill=\"none\" stroke=\"black\" d=\"M215.45,-380.74C215.45,-369.53 215.45,-356.42 215.45,-344.29\"/>\n",
       "<polygon fill=\"black\" stroke=\"black\" points=\"218.95,-344.56 215.45,-334.56 211.95,-344.56 218.95,-344.56\"/>\n",
       "</g>\n",
       "<!-- hsgp_weights_raw -->\n",
       "<g id=\"node5\" class=\"node\">\n",
       "<title>hsgp_weights_raw</title>\n",
       "<ellipse fill=\"none\" stroke=\"black\" cx=\"215.45\" cy=\"-515.29\" rx=\"82.91\" ry=\"40.66\"/>\n",
       "<text text-anchor=\"middle\" x=\"215.45\" y=\"-526.74\" font-family=\"Times New Roman,serif\" font-size=\"14.00\">hsgp_weights_raw</text>\n",
       "<text text-anchor=\"middle\" x=\"215.45\" y=\"-510.24\" font-family=\"Times New Roman,serif\" font-size=\"14.00\">~</text>\n",
       "<text text-anchor=\"middle\" x=\"215.45\" y=\"-493.74\" font-family=\"Times New Roman,serif\" font-size=\"14.00\">Normal</text>\n",
       "</g>\n",
       "<!-- hsgp_weights_raw&#45;&gt;hsgp_weights -->\n",
       "<g id=\"edge3\" class=\"edge\">\n",
       "<title>hsgp_weights_raw&#45;&gt;hsgp_weights</title>\n",
       "<path fill=\"none\" stroke=\"black\" d=\"M215.45,-474.31C215.45,-466.46 215.45,-458.23 215.45,-450.4\"/>\n",
       "<polygon fill=\"black\" stroke=\"black\" points=\"218.95,-450.42 215.45,-440.42 211.95,-450.42 218.95,-450.42\"/>\n",
       "</g>\n",
       "<!-- mu -->\n",
       "<g id=\"node8\" class=\"node\">\n",
       "<title>mu</title>\n",
       "<polygon fill=\"none\" stroke=\"black\" points=\"260.58,-227.23 170.33,-227.23 170.33,-169.73 260.58,-169.73 260.58,-227.23\"/>\n",
       "<text text-anchor=\"middle\" x=\"215.45\" y=\"-209.93\" font-family=\"Times New Roman,serif\" font-size=\"14.00\">mu</text>\n",
       "<text text-anchor=\"middle\" x=\"215.45\" y=\"-193.43\" font-family=\"Times New Roman,serif\" font-size=\"14.00\">~</text>\n",
       "<text text-anchor=\"middle\" x=\"215.45\" y=\"-176.93\" font-family=\"Times New Roman,serif\" font-size=\"14.00\">Deterministic</text>\n",
       "</g>\n",
       "<!-- hsgp&#45;&gt;mu -->\n",
       "<g id=\"edge5\" class=\"edge\">\n",
       "<title>hsgp&#45;&gt;mu</title>\n",
       "<path fill=\"none\" stroke=\"black\" d=\"M215.45,-274.9C215.45,-263.75 215.45,-250.72 215.45,-238.66\"/>\n",
       "<polygon fill=\"black\" stroke=\"black\" points=\"218.95,-239 215.45,-229 211.95,-239 218.95,-239\"/>\n",
       "</g>\n",
       "<!-- mu&#45;&gt;outcome -->\n",
       "<g id=\"edge7\" class=\"edge\">\n",
       "<title>mu&#45;&gt;outcome</title>\n",
       "<path fill=\"none\" stroke=\"black\" d=\"M215.45,-169.27C215.45,-158.44 215.45,-145.73 215.45,-133.41\"/>\n",
       "<polygon fill=\"black\" stroke=\"black\" points=\"218.95,-133.78 215.45,-123.78 211.95,-133.78 218.95,-133.78\"/>\n",
       "</g>\n",
       "</g>\n",
       "</svg>\n"
      ],
      "text/plain": [
       "<graphviz.graphs.Digraph at 0x1edb97fbc10>"
      ]
     },
     "execution_count": 6,
     "metadata": {},
     "output_type": "execute_result"
    }
   ],
   "source": [
    "model.build()\n",
    "model.graph()"
   ]
  },
  {
   "cell_type": "markdown",
   "metadata": {},
   "source": [
    "And finally, we quickly fit the model and show a traceplot to explore the posterior and spot any issues with the sampler."
   ]
  },
  {
   "cell_type": "code",
   "execution_count": 7,
   "metadata": {},
   "outputs": [
    {
     "ename": "NotImplementedError",
     "evalue": "'numpyro_nuts' method has not been implemented",
     "output_type": "error",
     "traceback": [
      "\u001b[1;31m---------------------------------------------------------------------------\u001b[0m",
      "\u001b[1;31mNotImplementedError\u001b[0m                       Traceback (most recent call last)",
      "Cell \u001b[1;32mIn[7], line 1\u001b[0m\n\u001b[1;32m----> 1\u001b[0m idata \u001b[38;5;241m=\u001b[39m \u001b[43mmodel\u001b[49m\u001b[38;5;241;43m.\u001b[39;49m\u001b[43mfit\u001b[49m\u001b[43m(\u001b[49m\u001b[43minference_method\u001b[49m\u001b[38;5;241;43m=\u001b[39;49m\u001b[38;5;124;43m\"\u001b[39;49m\u001b[38;5;124;43mnumpyro_nuts\u001b[39;49m\u001b[38;5;124;43m\"\u001b[39;49m\u001b[43m,\u001b[49m\u001b[43m \u001b[49m\u001b[43mtarget_accept\u001b[49m\u001b[38;5;241;43m=\u001b[39;49m\u001b[38;5;241;43m0.9\u001b[39;49m\u001b[43m,\u001b[49m\u001b[43m \u001b[49m\u001b[43mnum_chains\u001b[49m\u001b[38;5;241;43m=\u001b[39;49m\u001b[38;5;241;43m4\u001b[39;49m\u001b[43m)\u001b[49m\n\u001b[0;32m      2\u001b[0m \u001b[38;5;28mprint\u001b[39m(idata\u001b[38;5;241m.\u001b[39msample_stats\u001b[38;5;241m.\u001b[39mdiverging\u001b[38;5;241m.\u001b[39msum()\u001b[38;5;241m.\u001b[39mitem())\n",
      "File \u001b[1;32mc:\\Users\\treme\\.conda\\envs\\pymc_env\\Lib\\site-packages\\bambi\\models.py:348\u001b[0m, in \u001b[0;36mModel.fit\u001b[1;34m(self, draws, tune, discard_tuned_samples, omit_offsets, include_mean, include_response_params, inference_method, init, n_init, chains, cores, random_seed, **kwargs)\u001b[0m\n\u001b[0;32m    341\u001b[0m     warnings\u001b[38;5;241m.\u001b[39mwarn(\n\u001b[0;32m    342\u001b[0m         \u001b[38;5;124m\"\u001b[39m\u001b[38;5;124m'\u001b[39m\u001b[38;5;124minclude_mean\u001b[39m\u001b[38;5;124m'\u001b[39m\u001b[38;5;124m has been replaced by \u001b[39m\u001b[38;5;124m'\u001b[39m\u001b[38;5;124minclude_response_params\u001b[39m\u001b[38;5;124m'\u001b[39m\u001b[38;5;124m and \u001b[39m\u001b[38;5;124m\"\u001b[39m\n\u001b[0;32m    343\u001b[0m         \u001b[38;5;124m\"\u001b[39m\u001b[38;5;124mis not going to work in the future\u001b[39m\u001b[38;5;124m\"\u001b[39m,\n\u001b[0;32m    344\u001b[0m         \u001b[38;5;167;01mFutureWarning\u001b[39;00m,\n\u001b[0;32m    345\u001b[0m     )\n\u001b[0;32m    346\u001b[0m     include_response_params \u001b[38;5;241m=\u001b[39m include_mean\n\u001b[1;32m--> 348\u001b[0m \u001b[38;5;28;01mreturn\u001b[39;00m \u001b[38;5;28;43mself\u001b[39;49m\u001b[38;5;241;43m.\u001b[39;49m\u001b[43mbackend\u001b[49m\u001b[38;5;241;43m.\u001b[39;49m\u001b[43mrun\u001b[49m\u001b[43m(\u001b[49m\n\u001b[0;32m    349\u001b[0m \u001b[43m    \u001b[49m\u001b[43mdraws\u001b[49m\u001b[38;5;241;43m=\u001b[39;49m\u001b[43mdraws\u001b[49m\u001b[43m,\u001b[49m\n\u001b[0;32m    350\u001b[0m \u001b[43m    \u001b[49m\u001b[43mtune\u001b[49m\u001b[38;5;241;43m=\u001b[39;49m\u001b[43mtune\u001b[49m\u001b[43m,\u001b[49m\n\u001b[0;32m    351\u001b[0m \u001b[43m    \u001b[49m\u001b[43mdiscard_tuned_samples\u001b[49m\u001b[38;5;241;43m=\u001b[39;49m\u001b[43mdiscard_tuned_samples\u001b[49m\u001b[43m,\u001b[49m\n\u001b[0;32m    352\u001b[0m \u001b[43m    \u001b[49m\u001b[43momit_offsets\u001b[49m\u001b[38;5;241;43m=\u001b[39;49m\u001b[43momit_offsets\u001b[49m\u001b[43m,\u001b[49m\n\u001b[0;32m    353\u001b[0m \u001b[43m    \u001b[49m\u001b[43minclude_response_params\u001b[49m\u001b[38;5;241;43m=\u001b[39;49m\u001b[43minclude_response_params\u001b[49m\u001b[43m,\u001b[49m\n\u001b[0;32m    354\u001b[0m \u001b[43m    \u001b[49m\u001b[43minference_method\u001b[49m\u001b[38;5;241;43m=\u001b[39;49m\u001b[43minference_method\u001b[49m\u001b[43m,\u001b[49m\n\u001b[0;32m    355\u001b[0m \u001b[43m    \u001b[49m\u001b[43minit\u001b[49m\u001b[38;5;241;43m=\u001b[39;49m\u001b[43minit\u001b[49m\u001b[43m,\u001b[49m\n\u001b[0;32m    356\u001b[0m \u001b[43m    \u001b[49m\u001b[43mn_init\u001b[49m\u001b[38;5;241;43m=\u001b[39;49m\u001b[43mn_init\u001b[49m\u001b[43m,\u001b[49m\n\u001b[0;32m    357\u001b[0m \u001b[43m    \u001b[49m\u001b[43mchains\u001b[49m\u001b[38;5;241;43m=\u001b[39;49m\u001b[43mchains\u001b[49m\u001b[43m,\u001b[49m\n\u001b[0;32m    358\u001b[0m \u001b[43m    \u001b[49m\u001b[43mcores\u001b[49m\u001b[38;5;241;43m=\u001b[39;49m\u001b[43mcores\u001b[49m\u001b[43m,\u001b[49m\n\u001b[0;32m    359\u001b[0m \u001b[43m    \u001b[49m\u001b[43mrandom_seed\u001b[49m\u001b[38;5;241;43m=\u001b[39;49m\u001b[43mrandom_seed\u001b[49m\u001b[43m,\u001b[49m\n\u001b[0;32m    360\u001b[0m \u001b[43m    \u001b[49m\u001b[38;5;241;43m*\u001b[39;49m\u001b[38;5;241;43m*\u001b[39;49m\u001b[43mkwargs\u001b[49m\u001b[43m,\u001b[49m\n\u001b[0;32m    361\u001b[0m \u001b[43m\u001b[49m\u001b[43m)\u001b[49m\n",
      "File \u001b[1;32mc:\\Users\\treme\\.conda\\envs\\pymc_env\\Lib\\site-packages\\bambi\\backend\\pymc.py:150\u001b[0m, in \u001b[0;36mPyMCModel.run\u001b[1;34m(self, draws, tune, discard_tuned_samples, omit_offsets, include_response_params, inference_method, init, n_init, chains, cores, random_seed, **kwargs)\u001b[0m\n\u001b[0;32m    148\u001b[0m     result \u001b[38;5;241m=\u001b[39m \u001b[38;5;28mself\u001b[39m\u001b[38;5;241m.\u001b[39m_run_laplace(draws, omit_offsets, include_response_params)\n\u001b[0;32m    149\u001b[0m \u001b[38;5;28;01melse\u001b[39;00m:\n\u001b[1;32m--> 150\u001b[0m     \u001b[38;5;28;01mraise\u001b[39;00m \u001b[38;5;167;01mNotImplementedError\u001b[39;00m(\u001b[38;5;124mf\u001b[39m\u001b[38;5;124m\"\u001b[39m\u001b[38;5;124m'\u001b[39m\u001b[38;5;132;01m{\u001b[39;00minference_method\u001b[38;5;132;01m}\u001b[39;00m\u001b[38;5;124m'\u001b[39m\u001b[38;5;124m method has not been implemented\u001b[39m\u001b[38;5;124m\"\u001b[39m)\n\u001b[0;32m    152\u001b[0m \u001b[38;5;28mself\u001b[39m\u001b[38;5;241m.\u001b[39mfit \u001b[38;5;241m=\u001b[39m \u001b[38;5;28;01mTrue\u001b[39;00m\n\u001b[0;32m    153\u001b[0m \u001b[38;5;28;01mreturn\u001b[39;00m result\n",
      "\u001b[1;31mNotImplementedError\u001b[0m: 'numpyro_nuts' method has not been implemented"
     ]
    }
   ],
   "source": [
    "idata = model.fit(inference_method=\"numpyro_nuts\", target_accept=0.9, num_chains=4)\n",
    "print(idata.sample_stats.diverging.sum().item())"
   ]
  },
  {
   "cell_type": "code",
   "execution_count": null,
   "metadata": {},
   "outputs": [],
   "source": [
    "az.plot_trace(\n",
    "    idata, \n",
    "    var_names=[\"hsgp_sigma\", \"hsgp_ell\", \"sigma\"], \n",
    "    backend_kwargs={\"layout\": \"constrained\"}\n",
    ");"
   ]
  },
  {
   "cell_type": "markdown",
   "metadata": {},
   "source": [
    "We don’t see any divergences. However, the autocorrelation in the chains for the covariance function parameters, along with the insufficient mixing, indicates that there may be an issue with the prior specification of the model."
   ]
  },
  {
   "cell_type": "markdown",
   "metadata": {},
   "source": [
    "Since the goal of the notebook is to simply show what features Bambi supports and how to use them, we won’t further investigate these issues. However, such posteriors shouldn’t be considered in any serious application."
   ]
  },
  {
   "cell_type": "markdown",
   "metadata": {},
   "source": [
    "From now on, the notebook will follow the same structure as the one already shown, which consists of\n",
    "\n",
    "* Data simulation with some specific settings\n",
    "* Creation of the Bambi model\n",
    "* Building of the internal PyMC model and visualization of the graph\n",
    "* Model fit and inspection of the traceplot"
   ]
  },
  {
   "cell_type": "markdown",
   "metadata": {},
   "source": [
    "### Multiple groups - same covariance function"
   ]
  },
  {
   "cell_type": "markdown",
   "metadata": {},
   "source": [
    "In this scenario we have multiple groups that share the same covariance function."
   ]
  },
  {
   "cell_type": "code",
   "execution_count": null,
   "metadata": {},
   "outputs": [],
   "source": [
    "rng = np.random.default_rng(123)\n",
    "\n",
    "ell = 2\n",
    "cov = 1.2 * pm.gp.cov.ExpQuad(2, ls=ell)\n",
    "K = cov(X).eval()\n",
    "mu = np.zeros(X.shape[0])\n",
    "\n",
    "f = rng.multivariate_normal(mu, K, 3)\n",
    "\n",
    "fig, axes = plt.subplots(1, 3, figsize=(12, 4))\n",
    "for i, ax in enumerate(axes):\n",
    "    ax.scatter(xx, yy, c=f[i], s=320, marker=\"s\")\n",
    "    ax.grid(False)\n",
    "    ax.set_title(f\"Group {i}\")"
   ]
  },
  {
   "cell_type": "code",
   "execution_count": null,
   "metadata": {},
   "outputs": [],
   "source": [
    "data = pd.DataFrame(\n",
    "    {\n",
    "        \"x\": np.tile(xx.flatten(), 3),\n",
    "        \"y\": np.tile(yy.flatten(), 3),\n",
    "        \"group\": np.repeat(list(\"ABC\"), 12 * 12),\n",
    "        \"outcome\": f.flatten()\n",
    "    }\n",
    ")"
   ]
  },
  {
   "cell_type": "markdown",
   "metadata": {},
   "source": [
    "Notice we don’t modify anything substantial in the call to ```hsgp()``` for now."
   ]
  },
  {
   "cell_type": "code",
   "execution_count": null,
   "metadata": {},
   "outputs": [],
   "source": [
    "prior_hsgp = {\n",
    "    \"sigma\": bmb.Prior(\"Exponential\", lam=3),\n",
    "    \"ell\": bmb.Prior(\"InverseGamma\", mu=2, sigma=0.2),\n",
    "}\n",
    "priors = {\n",
    "    \"hsgp(x, y, by=group, c=1.5, m=10)\": prior_hsgp, \n",
    "    \"sigma\": bmb.Prior(\"HalfNormal\", sigma=2)\n",
    "}\n",
    "model = bmb.Model(\"outcome ~ 0 + hsgp(x, y, by=group, c=1.5, m=10)\", data, priors=priors)\n",
    "model.set_alias({\"hsgp(x, y, by=group, c=1.5, m=10)\": \"hsgp\"})\n",
    "print(model)\n",
    "model.build()\n",
    "model.graph()"
   ]
  },
  {
   "cell_type": "code",
   "execution_count": null,
   "metadata": {},
   "outputs": [],
   "source": [
    "idata = model.fit(inference_method=\"numpyro_nuts\", target_accept=0.9, num_chains=4)\n",
    "print(idata.sample_stats.diverging.sum().item())"
   ]
  },
  {
   "cell_type": "code",
   "execution_count": null,
   "metadata": {},
   "outputs": [],
   "source": [
    "az.plot_trace(\n",
    "    idata, \n",
    "    var_names=[\"hsgp_sigma\", \"hsgp_ell\", \"sigma\"], \n",
    "    backend_kwargs={\"layout\": \"constrained\"}\n",
    ");"
   ]
  },
  {
   "cell_type": "markdown",
   "metadata": {},
   "source": [
    "While we have three groups, we only have one ```hsgp_sigma``` and one ```hsgp_ell``` for all groups. This is because, by default, the HSGP contributions by groups use the same instance of the covariance function."
   ]
  },
  {
   "cell_type": "markdown",
   "metadata": {},
   "source": [
    "### Multiple groups - different covariance function"
   ]
  },
  {
   "cell_type": "markdown",
   "metadata": {},
   "source": [
    "Again we have multiple groups. But this time, each group has specific values for the amplitude and the lengthscale."
   ]
  },
  {
   "cell_type": "code",
   "execution_count": null,
   "metadata": {},
   "outputs": [],
   "source": [
    "rng = np.random.default_rng(12)\n",
    "\n",
    "sigmas = [1.2, 1.5, 1.8]\n",
    "ells = [1.5, 2, 3]\n",
    "\n",
    "samples = []\n",
    "for sigma, ell in zip(sigmas, ells):\n",
    "    cov = sigma * pm.gp.cov.ExpQuad(2, ls=ell)\n",
    "    K = cov(X).eval()\n",
    "    mu = np.zeros(X.shape[0])\n",
    "    samples.append(rng.multivariate_normal(mu, K))\n",
    "\n",
    "f = np.stack(samples)\n",
    "fig, axes = plt.subplots(1, 3, figsize=(12, 4))\n",
    "for i, ax in enumerate(axes):\n",
    "    ax.scatter(xx, yy, c=f[i], s=320, marker=\"s\")\n",
    "    ax.grid(False)\n",
    "    ax.set_title(f\"Group {i}\")"
   ]
  },
  {
   "cell_type": "code",
   "execution_count": null,
   "metadata": {},
   "outputs": [],
   "source": [
    "data = pd.DataFrame(\n",
    "    {\n",
    "        \"x\": np.tile(xx.flatten(), 3),\n",
    "        \"y\": np.tile(yy.flatten(), 3),\n",
    "        \"group\": np.repeat(list(\"ABC\"), 12 * 12),\n",
    "        \"outcome\": f.flatten()\n",
    "    }\n",
    ")"
   ]
  },
  {
   "cell_type": "markdown",
   "metadata": {},
   "source": [
    "In situations like this, we can tell Bambi not to use the same covariance function for all the groups with ```share_cov=False``` and Bambi will create a separate instance for each group, resulting in group specific estimates of the amplitude and the lengthscale.\n",
    "\n",
    "Notice, however, we’re still using the same kind of covariance function, which in this case is ```ExpQuad```."
   ]
  },
  {
   "cell_type": "code",
   "execution_count": null,
   "metadata": {},
   "outputs": [],
   "source": [
    "prior_hsgp = {\n",
    "    \"sigma\": bmb.Prior(\"Exponential\", lam=3),\n",
    "    \"ell\": bmb.Prior(\"InverseGamma\", mu=2, sigma=0.2),\n",
    "}\n",
    "priors = {\n",
    "    \"hsgp(x, y, by=group, c=1.5, m=10, share_cov=False)\": prior_hsgp, \n",
    "    \"sigma\": bmb.Prior(\"HalfNormal\", sigma=2)\n",
    "}\n",
    "model = bmb.Model(\n",
    "    \"outcome ~ 0 + hsgp(x, y, by=group, c=1.5, m=10, share_cov=False)\", \n",
    "    data, \n",
    "    priors=priors\n",
    ")\n",
    "model.set_alias({\"hsgp(x, y, by=group, c=1.5, m=10, share_cov=False)\": \"hsgp\"})\n",
    "print(model)\n",
    "model.build()\n",
    "model.graph()"
   ]
  },
  {
   "cell_type": "markdown",
   "metadata": {},
   "source": [
    "See the all the HSGP related parameters gained the new dimension ```hsgp_by```."
   ]
  },
  {
   "cell_type": "code",
   "execution_count": null,
   "metadata": {},
   "outputs": [],
   "source": [
    "idata = model.fit(inference_method=\"numpyro_nuts\", target_accept=0.9, num_chains=4)\n",
    "print(idata.sample_stats.diverging.sum().item())"
   ]
  },
  {
   "cell_type": "code",
   "execution_count": null,
   "metadata": {},
   "outputs": [],
   "source": [
    "az.plot_trace(\n",
    "    idata, \n",
    "    var_names=[\"hsgp_sigma\", \"hsgp_ell\", \"sigma\"], \n",
    "    backend_kwargs={\"layout\": \"constrained\"}\n",
    ");"
   ]
  },
  {
   "cell_type": "markdown",
   "metadata": {},
   "source": [
    "Unlike the previous case, now there are three ```hsgp_sigma``` and three ```hsgp_ell``` parameters, one per group. We can see them in different colors in the visualization."
   ]
  },
  {
   "cell_type": "markdown",
   "metadata": {},
   "source": [
    "## Anisotropic samples"
   ]
  },
  {
   "cell_type": "markdown",
   "metadata": {},
   "source": [
    "In this second part we repeat exactly the same that we did for the isotropic case. First, we start with a single group. Then, we continue with multiple groups that share the covariance function. And finally, multiple groups with different covariance functions. The main difference is that we use ```iso=False```, which asks to use an anisotropic GP."
   ]
  },
  {
   "cell_type": "markdown",
   "metadata": {},
   "source": [
    "### A single group"
   ]
  },
  {
   "cell_type": "code",
   "execution_count": null,
   "metadata": {},
   "outputs": [],
   "source": [
    "rng = np.random.default_rng(1234)\n",
    "\n",
    "ell = [2, 0.9]\n",
    "cov = 1.2 * pm.gp.cov.ExpQuad(2, ls=ell)\n",
    "K = cov(X).eval()\n",
    "mu = np.zeros(X.shape[0])\n",
    "\n",
    "f = rng.multivariate_normal(mu, K)\n",
    "\n",
    "fig, ax = plt.subplots(figsize = (4.5, 4.5))\n",
    "ax.scatter(xx, yy, c=f, s=900, marker=\"s\");"
   ]
  },
  {
   "cell_type": "code",
   "execution_count": null,
   "metadata": {},
   "outputs": [],
   "source": [
    "data = pd.DataFrame(\n",
    "    {\n",
    "        \"x\": np.tile(xx.flatten(), 1),\n",
    "        \"y\": np.tile(yy.flatten(), 1), \n",
    "        \"outcome\": f.flatten()\n",
    "    }\n",
    ")"
   ]
  },
  {
   "cell_type": "code",
   "execution_count": null,
   "metadata": {},
   "outputs": [],
   "source": [
    "prior_hsgp = {\n",
    "    \"sigma\": bmb.Prior(\"Exponential\", lam=3),\n",
    "    \"ell\": bmb.Prior(\"InverseGamma\", mu=2, sigma=0.2),\n",
    "}\n",
    "priors = {\n",
    "    \"hsgp(x, y, c=1.5, m=10, iso=False)\": prior_hsgp, \n",
    "    \"sigma\": bmb.Prior(\"HalfNormal\", sigma=2)\n",
    "}\n",
    "model = bmb.Model(\"outcome ~ 0 + hsgp(x, y, c=1.5, m=10, iso=False)\", data, priors=priors)\n",
    "model.set_alias({\"hsgp(x, y, c=1.5, m=10, iso=False)\": \"hsgp\"})\n",
    "print(model)\n",
    "model.build()\n",
    "model.graph()"
   ]
  },
  {
   "cell_type": "markdown",
   "metadata": {},
   "source": [
    "Although there is only one group in this case, the graph includes a ```hsgp_var``` dimension. This dimension represents the variables in the HSGP component, indicating that there is one lengthscale parameter per variable."
   ]
  },
  {
   "cell_type": "code",
   "execution_count": null,
   "metadata": {},
   "outputs": [],
   "source": [
    "idata = model.fit(inference_method=\"numpyro_nuts\", target_accept=0.9, num_chains=4)\n",
    "print(idata.sample_stats.diverging.sum().item())"
   ]
  },
  {
   "cell_type": "code",
   "execution_count": null,
   "metadata": {},
   "outputs": [],
   "source": [
    "az.plot_trace(\n",
    "    idata, \n",
    "    var_names=[\"hsgp_sigma\", \"hsgp_ell\", \"sigma\"], \n",
    "    backend_kwargs={\"layout\": \"constrained\"}\n",
    ");"
   ]
  },
  {
   "cell_type": "markdown",
   "metadata": {},
   "source": [
    "### Multiple groups - same covariance function"
   ]
  },
  {
   "cell_type": "code",
   "execution_count": null,
   "metadata": {},
   "outputs": [],
   "source": [
    "rng = np.random.default_rng(123)\n",
    "\n",
    "ell = [2, 0.9]\n",
    "cov = 1.2 * pm.gp.cov.ExpQuad(2, ls=ell)\n",
    "K = cov(X).eval()\n",
    "mu = np.zeros(X.shape[0])\n",
    "\n",
    "f = rng.multivariate_normal(mu, K, 3)\n",
    "\n",
    "fig, axes = plt.subplots(1, 3, figsize=(12, 4))\n",
    "for i, ax in enumerate(axes):\n",
    "    ax.scatter(xx, yy, c=f[i], s=320, marker=\"s\")\n",
    "    ax.grid(False)\n",
    "    ax.set_title(f\"Group {i}\")"
   ]
  },
  {
   "cell_type": "code",
   "execution_count": null,
   "metadata": {},
   "outputs": [],
   "source": [
    "data = pd.DataFrame(\n",
    "    {\n",
    "        \"x\": np.tile(xx.flatten(), 3),\n",
    "        \"y\": np.tile(yy.flatten(), 3),\n",
    "        \"group\": np.repeat(list(\"ABC\"), 12 * 12),\n",
    "        \"outcome\": f.flatten()\n",
    "    }\n",
    ")"
   ]
  },
  {
   "cell_type": "code",
   "execution_count": null,
   "metadata": {},
   "outputs": [],
   "source": [
    "prior_hsgp = {\n",
    "    \"sigma\": bmb.Prior(\"Exponential\", lam=3),\n",
    "    \"ell\": bmb.Prior(\"InverseGamma\", mu=2, sigma=0.2),\n",
    "}\n",
    "priors = {\n",
    "    \"hsgp(x, y, by=group, c=1.5, m=10, iso=False)\": prior_hsgp, \n",
    "    \"sigma\": bmb.Prior(\"HalfNormal\", sigma=2)\n",
    "}\n",
    "model = bmb.Model(\"outcome ~ 0 + hsgp(x, y, by=group, c=1.5, m=10, iso=False)\", data, priors=priors)\n",
    "model.set_alias({\"hsgp(x, y, by=group, c=1.5, m=10, iso=False)\": \"hsgp\"})\n",
    "print(model)\n",
    "model.build()\n",
    "model.graph()"
   ]
  },
  {
   "cell_type": "code",
   "execution_count": null,
   "metadata": {},
   "outputs": [],
   "source": [
    "idata = model.fit(inference_method=\"numpyro_nuts\", target_accept=0.9, num_chains=4)\n",
    "print(idata.sample_stats.diverging.sum().item())"
   ]
  },
  {
   "cell_type": "code",
   "execution_count": null,
   "metadata": {},
   "outputs": [],
   "source": [
    "az.plot_trace(\n",
    "    idata, \n",
    "    var_names=[\"hsgp_sigma\", \"hsgp_ell\", \"sigma\"], \n",
    "    backend_kwargs={\"layout\": \"constrained\"}\n",
    ");"
   ]
  },
  {
   "cell_type": "markdown",
   "metadata": {},
   "source": [
    "### Multiple groups - different covariance function"
   ]
  },
  {
   "cell_type": "code",
   "execution_count": null,
   "metadata": {},
   "outputs": [],
   "source": [
    "rng = np.random.default_rng(12)\n",
    "\n",
    "sigmas = [1.2, 1.5, 1.8]\n",
    "ells = [[1.5, 0.8], [2, 1.5], [3, 1]]\n",
    "\n",
    "samples = []\n",
    "for sigma, ell in zip(sigmas, ells):\n",
    "    cov = sigma * pm.gp.cov.ExpQuad(2, ls=ell)\n",
    "    K = cov(X).eval()\n",
    "    mu = np.zeros(X.shape[0])\n",
    "    samples.append(rng.multivariate_normal(mu, K))\n",
    "\n",
    "f = np.stack(samples)\n",
    "fig, axes = plt.subplots(1, 3, figsize=(12, 4))\n",
    "for i, ax in enumerate(axes):\n",
    "    ax.scatter(xx, yy, c=f[i], s=320, marker=\"s\")\n",
    "    ax.grid(False)\n",
    "    ax.set_title(f\"Group {i}\")"
   ]
  },
  {
   "cell_type": "code",
   "execution_count": null,
   "metadata": {},
   "outputs": [],
   "source": [
    "data = pd.DataFrame(\n",
    "    {\n",
    "        \"x\": np.tile(xx.flatten(), 3),\n",
    "        \"y\": np.tile(yy.flatten(), 3),\n",
    "        \"group\": np.repeat(list(\"ABC\"), 12 * 12),\n",
    "        \"outcome\": f.flatten()\n",
    "    }\n",
    ")"
   ]
  },
  {
   "cell_type": "code",
   "execution_count": null,
   "metadata": {},
   "outputs": [],
   "source": [
    "prior_hsgp = {\n",
    "    \"sigma\": bmb.Prior(\"Exponential\", lam=3),\n",
    "    \"ell\": bmb.Prior(\"InverseGamma\", mu=2, sigma=0.2),\n",
    "}\n",
    "priors = {\n",
    "    \"hsgp(x, y, by=group, c=1.5, m=10, iso=False, share_cov=False)\": prior_hsgp, \n",
    "    \"sigma\": bmb.Prior(\"HalfNormal\", sigma=2)\n",
    "}\n",
    "model = bmb.Model(\n",
    "    \"outcome ~ 0 + hsgp(x, y, by=group, c=1.5, m=10, iso=False, share_cov=False)\", \n",
    "    data, \n",
    "    priors=priors\n",
    ")\n",
    "model.set_alias({\"hsgp(x, y, by=group, c=1.5, m=10, iso=False, share_cov=False)\": \"hsgp\"})\n",
    "print(model)\n",
    "model.build()\n",
    "model.graph()"
   ]
  },
  {
   "cell_type": "code",
   "execution_count": null,
   "metadata": {},
   "outputs": [],
   "source": [
    "idata = model.fit(inference_method=\"numpyro_nuts\", target_accept=0.9, num_chains=4)\n",
    "print(idata.sample_stats.diverging.sum().item())"
   ]
  },
  {
   "cell_type": "code",
   "execution_count": null,
   "metadata": {},
   "outputs": [],
   "source": [
    "az.plot_trace(\n",
    "    idata, \n",
    "    var_names=[\"hsgp_sigma\", \"hsgp_ell\", \"sigma\"], \n",
    "    backend_kwargs={\"layout\": \"constrained\"}\n",
    ");"
   ]
  },
  {
   "cell_type": "markdown",
   "metadata": {},
   "source": [
    "## A more complex example: Poisson likelihood with group-specific effects"
   ]
  },
  {
   "cell_type": "markdown",
   "metadata": {},
   "source": [
    "For this final demonstration we’re going to use a simulated dataset where the outcome is a count variable. For the predictors, we have the location in terms of the latitude and longitude, as well as other variables such as the year of the measurement, the site where the measure was made, and one continuous predictor."
   ]
  },
  {
   "cell_type": "code",
   "execution_count": null,
   "metadata": {},
   "outputs": [],
   "source": [
    "data = pd.read_csv(\"data/poisson_data.csv\")\n",
    "data[\"Year\"] = pd.Categorical(data[\"Year\"])\n",
    "print(data.shape)\n",
    "data.head()"
   ]
  },
  {
   "cell_type": "markdown",
   "metadata": {},
   "source": [
    "We can visualize the outcome variable by location and year."
   ]
  },
  {
   "cell_type": "code",
   "execution_count": null,
   "metadata": {},
   "outputs": [],
   "source": [
    "fig, axes = plt.subplots(1, 2, figsize=(12, 4))\n",
    "for i, (ax, year) in enumerate(zip(axes, [2015, 2016])):\n",
    "    mask = data[\"Year\"] == year\n",
    "    x = data.loc[mask, \"Lat\"]\n",
    "    y = data.loc[mask, \"Lon\"]\n",
    "    count = data.loc[mask, \"Count\"]\n",
    "    ax.scatter(x, y, c=count, s=30, marker=\"s\")\n",
    "    ax.set_title(f\"Year {year}\")"
   ]
  },
  {
   "cell_type": "markdown",
   "metadata": {},
   "source": [
    "There’s not much we can conclude from here but it’s not a problem. The most relevant part of the example is not the data itself, but how to use Bambi to include GP components in a complex model.\n",
    "\n",
    "It’s very easy to create a model that uses both regular common and group-specific predictors as well as a GP contribution term. We just add them to the model formula, treat ```hsgp()``` as any other call, and that’s it!\n",
    "\n",
    "Below we have common effects for the Year, the interaction between X1 and Year, and group-specific intercepts by Site. Finally, we add ```hsgp()``` as any other call."
   ]
  },
  {
   "cell_type": "code",
   "execution_count": null,
   "metadata": {},
   "outputs": [],
   "source": [
    "formula = \"Count ~ 0 + Year + X1:Year + (1|Site) + hsgp(Lon, Lat, by=Year, m=5, c=1.5)\"\n",
    "model = bmb.Model(formula, data, family=\"poisson\")\n",
    "model"
   ]
  },
  {
   "cell_type": "markdown",
   "metadata": {},
   "source": [
    "Let’s use an alias to make the graph representation more readable."
   ]
  },
  {
   "cell_type": "code",
   "execution_count": null,
   "metadata": {},
   "outputs": [],
   "source": [
    "model.set_alias({\"hsgp(Lon, Lat, by=Year, m=5, c=1.5)\": \"gp\"})\n",
    "model.build()\n",
    "model.graph()"
   ]
  },
  {
   "cell_type": "markdown",
   "metadata": {},
   "source": [
    "And finally, let’s fit the model."
   ]
  },
  {
   "cell_type": "code",
   "execution_count": null,
   "metadata": {},
   "outputs": [],
   "source": [
    "idata = model.fit(inference_method=\"numpyro_nuts\", target_accept=0.99, num_chains=4)\n",
    "print(idata.sample_stats.diverging.sum().item())"
   ]
  },
  {
   "cell_type": "code",
   "execution_count": null,
   "metadata": {},
   "outputs": [],
   "source": [
    "az.plot_trace(\n",
    "    idata, \n",
    "    var_names=[\"gp_sigma\", \"gp_ell\", \"gp_weights\"], \n",
    "    backend_kwargs={\"layout\": \"constrained\"}\n",
    ");"
   ]
  },
  {
   "cell_type": "markdown",
   "metadata": {},
   "source": [
    "Notice the posteriors for the ```gp_weights``` are all centered at zero. This is a symptom of the absence of any spatial effect."
   ]
  },
  {
   "cell_type": "code",
   "execution_count": null,
   "metadata": {},
   "outputs": [],
   "source": [
    "az.plot_trace(\n",
    "    idata, \n",
    "    var_names=[\"Year\", \"X1:Year\"], \n",
    "    backend_kwargs={\"layout\": \"constrained\"}\n",
    ");"
   ]
  },
  {
   "cell_type": "code",
   "execution_count": null,
   "metadata": {},
   "outputs": [],
   "source": [
    "az.plot_trace(\n",
    "    idata, \n",
    "    var_names=[\"1|Site\", \"1|Site_sigma\"], \n",
    "    backend_kwargs={\"layout\": \"constrained\"}\n",
    ");"
   ]
  },
  {
   "cell_type": "code",
   "execution_count": null,
   "metadata": {},
   "outputs": [],
   "source": [
    "%load_ext watermark\n",
    "%watermark -n -u -v -iv -w"
   ]
  }
 ],
 "metadata": {
  "kernelspec": {
   "display_name": "pymc_env",
   "language": "python",
   "name": "python3"
  },
  "language_info": {
   "codemirror_mode": {
    "name": "ipython",
    "version": 3
   },
   "file_extension": ".py",
   "mimetype": "text/x-python",
   "name": "python",
   "nbconvert_exporter": "python",
   "pygments_lexer": "ipython3",
   "version": "3.11.9"
  }
 },
 "nbformat": 4,
 "nbformat_minor": 2
}
